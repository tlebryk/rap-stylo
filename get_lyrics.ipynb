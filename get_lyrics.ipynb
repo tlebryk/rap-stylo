{
 "cells": [
  {
   "cell_type": "code",
   "execution_count": 259,
   "metadata": {},
   "outputs": [],
   "source": [
    "from bs4 import BeautifulSoup\n",
    "import requests \n",
    "import numpy as np \n",
    "import json\n",
    "import time\n",
    "import pdb\n",
    "import os \n",
    "import re"
   ]
  },
  {
   "cell_type": "code",
   "execution_count": 260,
   "metadata": {},
   "outputs": [],
   "source": [
    "# given url, returns beautiful soup option\n",
    "def make_soup(url): \n",
    "    my_page = requests.get(url, headers = {\"Accept\": \"text/html\"})\n",
    "    if my_page.status_code == 200:\n",
    "        soup = BeautifulSoup(my_page.text, 'html.parser')\n",
    "        return soup\n",
    "    else: \n",
    "        print(\"ERROR: {} threw status code {}\\n\".format(url, my_page.status_code))\n",
    "        return None\n"
   ]
  },
  {
   "cell_type": "code",
   "execution_count": 261,
   "metadata": {},
   "outputs": [],
   "source": [
    "#input a url to an artist page, returns list of relative links to the artist's albums. \n",
    "def get_alb_links(url): \n",
    "    alb_links = []\n",
    "    soup = make_soup(url)\n",
    "    # last full_width_button is a tag with a url to a page with all the artist's albums\n",
    "    url = \"http://genius.com\" + soup.find_all(\"a\", class_=\"full_width_button\")[-1][\"href\"]\n",
    "    soup=make_soup(url)\n",
    "    alb_tags = soup.find_all(\"a\", class_=\"album_link\")\n",
    "    for album in alb_tags: \n",
    "        alb_links.append(album['href'])\n",
    "    return alb_links"
   ]
  },
  {
   "cell_type": "code",
   "execution_count": 262,
   "metadata": {},
   "outputs": [],
   "source": [
    "# recursive function that takes: \n",
    "# 1) url to first page of a artist's songs \n",
    "# 2) artist name (lowercase, hyphens for spaces) to match only songs by that artist (some songs_links are just production credits).\n",
    "# 3) a list of accumulated songs to pass between function calls\n",
    "# 4) a string that if contained in a song url will not be added. Used to screen out 'Drake' reference tracks.\n",
    "# returns a list of all songs\n",
    "def pg_to_songs(url, artist_name, ls, taboo='drake'):\n",
    "    soup = make_soup(url)\n",
    "    songs = soup.find_all(class_='song_name work_in_progress song_link')\n",
    "    for song in songs: \n",
    "        if song['href'].lower().find(taboo) == -1 and song['href'].lower().find(artist_name) != -1:\n",
    "            ls.append(song['href'])\n",
    "    x = soup.find('a', class_='next_page')\n",
    "    if (x):\n",
    "        time.sleep(1)\n",
    "        return pg_to_songs(' http://genius.com'+x['href'], artist_name, ls)\n",
    "    else: \n",
    "        return ls"
   ]
  },
  {
   "cell_type": "code",
   "execution_count": 263,
   "metadata": {},
   "outputs": [],
   "source": [
    "# similar to get_albums but bypass albums and just get single list of all songs (even those not part of any album)\n",
    "# instead return all the songs on their songs page \n",
    "def get_song_links(url, artist_name):\n",
    "    artist_name=artist_name.lower()\n",
    "    soup = make_soup(url)\n",
    "    # first full_width_button is a tag with a url to a page with all the artist's albums\n",
    "    url = \"http://genius.com\" + soup.find_all(\"a\", class_=\"full_width_button\")[0][\"href\"]\n",
    "    song_links = pg_to_songs(url, artist_name, [])\n",
    "    return song_links"
   ]
  },
  {
   "cell_type": "code",
   "execution_count": 264,
   "metadata": {},
   "outputs": [],
   "source": [
    "# pass a page of text (not a beautiful soup object) and the artist and use string operations to return a list of writers\n",
    "def get_writers(page, artist_name):\n",
    "    writers = set()\n",
    "    # in pages with writer info, a \"Written By\" div is followed by a tags with writers. \n",
    "    begin = page.find(\"Written By\")\n",
    "    end = page[begin:].find(\"</div\")\n",
    "    if begin != -1 and end != -1:\n",
    "        sub_sect=BeautifulSoup(page[begin:begin+end])\n",
    "        writer_tags=sub_sect.find_all(\"a\")\n",
    "        for writer_tag in writer_tags: \n",
    "            writers.add(writer_tag.get_text().lower())\n",
    "    # rappers are by default considered the writer of their song (unless it is a cover which we're omitting)\n",
    "    writers.add(artist_name)\n",
    "    return list(writers)"
   ]
  },
  {
   "cell_type": "code",
   "execution_count": 265,
   "metadata": {},
   "outputs": [],
   "source": [
    "# Input beautiful soup object of some song from a desired artist and the artist's name (lowercase, hyphens as spaces)\n",
    "# returns just the desired artist's contributions to the song - for instance a chorus sung by a featured artist is not returned.\n",
    "def get_song_lyrics(soup, artist_name):\n",
    "    artist_name = artist_name.replace('-', ' ')\n",
    "    lyr_list = []\n",
    "    lyrics = soup.find('div', class_='lyrics').get_text()\n",
    "    # lyrics are broken up into sections with headers - eg) [Chorus: Drake] - followed by lyrics \n",
    "    lyric_split = re.split(r\"\\n\\[\", lyrics)\n",
    "    for line in lyric_split:\n",
    "        #break into header and lyric, which should return exactly two elements in the body of the song.\n",
    "        head_lyr = re.split(r\"]\\n\", line)\n",
    "        if len(head_lyr) ==2: \n",
    "            # song's with multiple authors have a colon in the header.  \n",
    "            # only return lyrics from sections that exclusively list the desired artist as author\n",
    "            if re.search(\":.*\", head_lyr[0]):\n",
    "                if re.search(\":.*\", head_lyr[0])[0].lower()== \": \"+artist_name:\n",
    "                    lyr_list.append(head_lyr[1])   \n",
    "            # if there was no colon, then it is a one author song, and thus add to lyrics\n",
    "            else:\n",
    "                lyr_list.append(head_lyr[1])\n",
    "    lyrics = \"\".join(lyr_list)\n",
    "    return lyrics"
   ]
  },
  {
   "cell_type": "code",
   "execution_count": 266,
   "metadata": {},
   "outputs": [],
   "source": [
    "# writes a list of json - one for each song\n",
    "# label each year as 0 and each album as an empty string for formatting.\n",
    "# returns number of songs without missing lyrics. \n",
    "def song_links_to_json(song_links, artist_name): \n",
    "    json_ls = []\n",
    "    song_count = 0\n",
    "    for song in song_links:\n",
    "        json_dict = {}\n",
    "        # manually get page and soup because get_writers uses string operations, not beautiful soup\n",
    "        page = requests.get(song, headers = {\"Accept\": \"text/html\"})\n",
    "        if page.status_code != 200:\n",
    "            print(\"ERROR: {} threw  status code {}\\n\".format(song_url, page.status_code))\n",
    "            continue\n",
    "        soup = BeautifulSoup(page.text)\n",
    "        lyrics = get_song_lyrics(soup, artist_name)\n",
    "        if lyrics != '':\n",
    "            writers = get_writers(page.text, artist_name)\n",
    "            head = soup.find('div', class_='header_with_cover_art-primary_info_container')\n",
    "            artist = head.find(class_='header_with_cover_art-primary_info-primary_artist').contents[0]\n",
    "            title = head.find(class_='header_with_cover_art-primary_info-title').contents[0]\n",
    "            json_dict[\"title\"] = title\n",
    "            json_dict[\"year\"] = 0\n",
    "            json_dict[\"album\"] = ''\n",
    "            json_dict[\"writers\"] = writers\n",
    "            json_dict[\"artist\"] = artist_name\n",
    "            json_dict[\"lyrics\"] = lyrics\n",
    "            json_ls.append(json_dict)\n",
    "            song_count+=1\n",
    "        time.sleep(2)\n",
    "    file_name = \"data/\"+artist_name.replace('-', '_')+'/all.json'\n",
    "    with open(file_name, 'w') as file: \n",
    "        json.dump(json_ls, file)\n",
    "    return song_count"
   ]
  },
  {
   "cell_type": "code",
   "execution_count": 267,
   "metadata": {},
   "outputs": [],
   "source": [
    "# input artist's genius homepage and artist name in all lowercase with hyphens as spaces (eg quentin-miller)\n",
    "# write all the artitsts songs to 'data/artist_name/all.json'\n",
    "# returns number of songs successfully retreived and written\n",
    "def song_main(url, artist_name):\n",
    "    song_links = get_song_links(url, artist_name)\n",
    "    return song_links_to_json(song_links, artist_name)\n"
   ]
  },
  {
   "cell_type": "code",
   "execution_count": 272,
   "metadata": {},
   "outputs": [],
   "source": [
    "# given artist name and url to artist's genius homepage, \n",
    "# writes lyrics and metadata from that page to json files corresponding to their album name\n",
    "# returns the number of songs sucessfully written\n",
    "def album_main(url, artist_name): \n",
    "    artist_name = artist_name.strip().lower()\n",
    "    alb_links = get_alb_links(url)\n",
    "    song_count = 0\n",
    "    for alb in alb_links: \n",
    "        json_ls = []\n",
    "        alb_url = \"http://genius.com\"+alb\n",
    "        soup = make_soup(alb_url)\n",
    "        #get year of album from first instance of \"metadata_unit\" class; currenly only looking for data after 2000. \n",
    "        year = soup.find('div', class_=\"metadata_unit\").get_text()\n",
    "        if year:\n",
    "            if re.search(r\"(20\\d\\d)\", year):\n",
    "                year = re.search(r\"20\\d\\d\", year)[0]\n",
    "            else:\n",
    "                year = None\n",
    "        album = soup.find(\"title\").get_text()\n",
    "        start = album.find(\"-\")\n",
    "        end = album.find(\"Lyrics\")\n",
    "        if start != -1 and end != -1: \n",
    "            album = album[start+2:end]\n",
    "\n",
    "        #links to songs found in u-display_block on album page\n",
    "        songs = soup.find_all(\"a\", class_=\"u-display_block\")\n",
    "        for song in songs:\n",
    "            json_dict = {}\n",
    "            song_url = song[\"href\"]\n",
    "            # manually get page and soup because get_writers uses string operations, not beautiful soup\n",
    "            page = requests.get(song_url, headers = {\"Accept\": \"text/html\"})\n",
    "            if page.status_code != 200:\n",
    "                print(\"ERROR: {} threw  status code {}\\n\".format(song_url, page.status_code))\n",
    "                continue\n",
    "            soup = BeautifulSoup(page.text)       \n",
    "            lyrics = get_song_lyrics(soup, artist_name)\n",
    "            if (lyrics != ''):\n",
    "                writers = get_writers(page.text, artist_name)\n",
    "                title = soup.find(\"h1\", class_=\"header_with_cover_art-primary_info-title\").get_text()\n",
    "                json_dict[\"title\"] = title\n",
    "                json_dict[\"year\"] = year\n",
    "                json_dict[\"album\"] = album\n",
    "                json_dict[\"writers\"] = writers\n",
    "                json_dict[\"artist\"] = artist_name\n",
    "                json_dict[\"lyrics\"] = lyrics\n",
    "                json_ls.append(json_dict)\n",
    "                song_count+=1\n",
    "            time.sleep(2)\n",
    "        file_name = \"data/\"+artist_name.replace(' ', '_')+'/'+album.replace(\" \", \"_\")+'.json'\n",
    "        with open(file_name, 'w') as file: \n",
    "            json.dump(json_ls, file)\n",
    "    return song_count\n"
   ]
  },
  {
   "cell_type": "code",
   "execution_count": 258,
   "metadata": {},
   "outputs": [
    {
     "name": "stdout",
     "output_type": "stream",
     "text": [
      "Found 138 Quentin-miller songs\n"
     ]
    }
   ],
   "source": [
    "url = \"https://genius.com/artists/Quentin-miller\"\n",
    "count = song_main(url, 'quentin-miller')\n",
    "print(\"Found {} Quentin-miller songs\".format(count))"
   ]
  },
  {
   "cell_type": "code",
   "execution_count": 242,
   "metadata": {},
   "outputs": [
    {
     "data": {
      "text/plain": [
       "'Yeah, I apologize, slipped a couple times\\nSlipped into a dark place running towards the light\\nI slipped, like DMX in \\'98 I owned up to my mistakes\\nI had a couple records leak\\nThat dark cloud been rainin\\' on my career since then, shits been- Difficult, but then again I can’t recall when it hasn\\'t been\\nThis much alcohol is hazardous but fuck being sober I’d rather this Somehow the word \"Lit\" became synonymous with happiness\\nI remember back when I ain\\'t have to twist a cap for me to spit a rap\\nDreams do come true I’m really livin\\' that\\nBut nightmares do too, see what I’m gettin\\' at?\\nThe signs was right there and I was missin\\' that\\nAll along it was in me, I was just livin\\' timid\\nAfraid to say that I’m just as good as my competition\\nIf not better, strange feeling, the same feeling\\nWhen I was a kid and lookin\\' out the window\\nAt the other children, get on the bus and shit\\nI felt I wasn’t living, the grass is always greener\\nI know the deeper meaning, hold up\\nWhile I’m awake I’m dreaming, on some Dr. King shit\\nI do believe in freedom, that shit so expensive\\nThat’s why the whips be rented, fake it till you get it\\nWhen I pass away, what they gone say \\'bout Quentin?\\nDid he make a difference? Was he even different?\\nWhat\\'d he teach his children? What he preach in lyrics?\\nHow he lift our spirits? Not that fake shit, not that vain shit\\nHow’d he change shit? You see the games rigged\\nI made a name in it, that’s the hard part, the even harder part\\nNot fallin off, Nike watcha calls\\nOn the green like Jason day asun\\nMake a way or don’t, it’s up to you\\nThat’s the beauty, if you don’t, or if you do you get to choose\\nIt’s up to you\\n'"
      ]
     },
     "execution_count": 242,
     "metadata": {},
     "output_type": "execute_result"
    }
   ],
   "source": [
    "url = 'https://genius.com/Quentin-miller-4-21-freestyle-lyrics'\n",
    "soup = make_soup(url)\n",
    "get_song_lyrics(soup, 'quentin-miller')"
   ]
  },
  {
   "cell_type": "code",
   "execution_count": 273,
   "metadata": {},
   "outputs": [
    {
     "name": "stdout",
     "output_type": "stream",
     "text": [
      "ERROR: https://genius.com/Drake-inst-lyrics threw  status code 404\n",
      "\n",
      "ERROR: https://genius.com/Drake-acapella-lyrics threw  status code 404\n",
      "\n",
      "260\n"
     ]
    }
   ],
   "source": [
    "url = 'https://genius.com/artists/Drake'\n",
    "artist_name = 'drake'\n",
    "print(album_main(url, artist_name))"
   ]
  },
  {
   "cell_type": "code",
   "execution_count": 430,
   "metadata": {},
   "outputs": [
    {
     "name": "stdout",
     "output_type": "stream",
     "text": [
      "ERROR: https://genius.com/Quentin-miller-no-scrimage-lyrics threw  status code404\n",
      "\n",
      "ERROR: https://genius.com/Quentin-miller-grey-steel-lyrics threw  status code404\n",
      "\n",
      "ERROR: https://genius.com/Quentin-miller-shanes-introduction-lyrics threw  status code404\n",
      "\n",
      "ERROR: https://genius.com/Quentin-miller-taste-lyrics threw  status code404\n",
      "\n",
      "ERROR: https://genius.com/Quentin-miller-5-oh-x-two-lyrics threw  status code404\n",
      "\n",
      "ERROR: https://genius.com/Quentin-miller-acquisistion-lyrics threw  status code404\n",
      "\n",
      "ERROR: https://genius.com/Quentin-miller-reckless-lyrics threw  status code404\n",
      "\n",
      "ERROR: https://genius.com/Quentin-miller-apply-pressure-lyrics threw  status code404\n",
      "\n",
      "ERROR: https://genius.com/Quentin-miller-eden-lyrics threw  status code404\n",
      "\n",
      "ERROR: https://genius.com/Quentin-miller-free-tacos-lyrics threw  status code404\n",
      "\n",
      "ERROR: https://genius.com/Quentin-miller-cul-cha-lyrics threw  status code404\n",
      "\n",
      "ERROR: https://genius.com/Quentin-miller-love-below-zero-lyrics threw  status code404\n",
      "\n",
      "ERROR: https://genius.com/Quentin-miller-sum-different-x-thanks-from-ricky-lyrics threw  status code404\n",
      "\n",
      "ERROR: https://genius.com/Quentin-miller-grand-lyrics threw  status code404\n",
      "\n",
      "ERROR: https://genius.com/Quentin-miller-litkit-lyrics threw  status code404\n",
      "\n",
      "ERROR: https://genius.com/Quentin-miller-to-turning-26-lyrics threw  status code404\n",
      "\n",
      "ERROR: https://genius.com/Quentin-miller-thanks2you-lyrics threw  status code404\n",
      "\n",
      "ERROR: https://genius.com/Quentin-miller-leanonme-wdng-lyrics threw  status code404\n",
      "\n",
      "ERROR: https://genius.com/Quentin-miller-hs17-lyrics threw  status code404\n",
      "\n",
      "ERROR: https://genius.com/Quentin-miller-changeless-lyrics threw  status code404\n",
      "\n",
      "ERROR: https://genius.com/Quentin-miller-outro-lyrics threw  status code404\n",
      "\n",
      "ERROR: https://genius.com/Quentin-miller-thewinter-bonus-lyrics threw  status code404\n",
      "\n",
      "87\n"
     ]
    }
   ],
   "source": [
    "url = 'https://genius.com/artists/Quentin-miller'\n",
    "artist_name = 'quentin miller'\n",
    "print(album_main(url, artist_name))"
   ]
  },
  {
   "cell_type": "code",
   "execution_count": 28,
   "metadata": {},
   "outputs": [],
   "source": [
    "# for future exploration: add similar artists such as Partynextdoor and JCole as noise \n",
    "\n",
    "url = 'https://genius.com/artists/Partynextdoor'\n",
    "get_alb_links(url)\n",
    "artist_name = 'partynextdoor'\n",
    "print(album_main(url, artist_name))\n",
    "\n",
    "url = 'https://genius.com/artists/J-cole'\n",
    "artist_name = 'j cole'\n",
    "print(album_main(url, artist_name))"
   ]
  },
  {
   "cell_type": "code",
   "execution_count": 141,
   "metadata": {},
   "outputs": [],
   "source": [
    "# input path to folder with jsons of artist's albums, \n",
    "# convert into txt files and write them into 'data/text' folder \n",
    "# returns number of songs that got written\n",
    "# r stylo package works better with txt files with special naming conventions of class/author + '_' + title\n",
    "def json_to_txt(path):\n",
    "    if (path[-1] != '\\\\'):\n",
    "        path = path+'\\\\'\n",
    "    song_count = 0\n",
    "    for filename in os.listdir(path): \n",
    "        if filename.find('.json')==-1:\n",
    "            continue            \n",
    "        with open(path+filename) as f: \n",
    "            data = json.load(f)\n",
    "        #use first song to create file name following stylo file naming conventions\n",
    "        name = data[0]['artist'].strip().split()[0].capitalize()\n",
    "        name = re.sub(r'[-_\\. ]', '', name)\n",
    "        album = data[0]['album'].strip(' ').split()[0].capitalize()\n",
    "        album = re.sub(r'[-_\\. ]', '', album)\n",
    "        txt_path = 'data/texts/'\n",
    "        txt_file = ''.join([txt_path, name, '_', album, '.txt'])\n",
    "        # account for first words being shared in album titles such as multiple editions of a mixtape - (e.g. tha Carter I, the carter II etc).  \n",
    "        if os.path.isfile(txt_file): \n",
    "            suffix = 1\n",
    "            while True: \n",
    "                txt_file = ''.join([txt_path, name, '_', album, str(suffix), '.txt'])\n",
    "                if os.path.isfile(txt_file): \n",
    "                    suffix+=1\n",
    "                    continue\n",
    "                else: \n",
    "                    break\n",
    "        with open(txt_file, 'w', errors='ignore',) as f: \n",
    "            # for now include every song including those with multiple writers due to small size of corpus\n",
    "            for song in data:\n",
    "                if len(song['lyrics']) > 10:\n",
    "                    f.write(song['lyrics'])\n",
    "                    song_count+=1\n",
    "    return song_count"
   ]
  },
  {
   "cell_type": "code",
   "execution_count": 144,
   "metadata": {},
   "outputs": [
    {
     "name": "stdout",
     "output_type": "stream",
     "text": [
      "243\n"
     ]
    }
   ],
   "source": [
    "path = 'data/drake/'\n",
    "drake_count = json_to_txt(path)\n",
    "print(drake_count)"
   ]
  },
  {
   "cell_type": "code",
   "execution_count": 145,
   "metadata": {},
   "outputs": [
    {
     "name": "stdout",
     "output_type": "stream",
     "text": [
      "75\n"
     ]
    }
   ],
   "source": [
    "path = 'data/quentin_miller/'\n",
    "miller_count = json_to_txt(path)\n",
    "print(miller_count)"
   ]
  }
 ],
 "metadata": {
  "kernelspec": {
   "display_name": "Python 3",
   "language": "python",
   "name": "python3"
  },
  "language_info": {
   "codemirror_mode": {
    "name": "ipython",
    "version": 3
   },
   "file_extension": ".py",
   "mimetype": "text/x-python",
   "name": "python",
   "nbconvert_exporter": "python",
   "pygments_lexer": "ipython3",
   "version": "3.9.2"
  },
  "toc-showtags": false
 },
 "nbformat": 4,
 "nbformat_minor": 4
}
