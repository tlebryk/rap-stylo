{
 "cells": [
  {
   "cell_type": "code",
   "execution_count": 422,
   "metadata": {},
   "outputs": [],
   "source": [
    "from bs4 import BeautifulSoup\n",
    "import requests \n",
    "import numpy as np \n",
    "import json\n",
    "import time"
   ]
  },
  {
   "cell_type": "code",
   "execution_count": 423,
   "metadata": {},
   "outputs": [],
   "source": [
    "from bs4 import BeautifulSoup\n",
    "import numpy as np \n",
    "import pandas as pd \n",
    "import os \n",
    "import re\n",
    "import requests"
   ]
  },
  {
   "cell_type": "code",
   "execution_count": 424,
   "metadata": {},
   "outputs": [],
   "source": [
    "# given url, returns beautiful soup option\n",
    "def make_soup(url): \n",
    "    my_page = requests.get(url, headers = {\"Accept\": \"text/html\"})\n",
    "    if my_page.status_code == 200:\n",
    "        soup = BeautifulSoup(my_page.text, 'html.parser')\n",
    "        return soup\n",
    "    else: \n",
    "        print(\"ERROR: {} threw status code {}\\n\".format(url, my_page.status_code))\n",
    "        return None\n"
   ]
  },
  {
   "cell_type": "code",
   "execution_count": 425,
   "metadata": {},
   "outputs": [],
   "source": [
    "#input a url to an artist page, returns list of relative links to the artist's albums. \n",
    "def get_alb_links(url): \n",
    "    alb_links=[]\n",
    "    soup=make_soup(url)\n",
    "    # last full_width_button is a tag with a url to a page with all the artist's albums\n",
    "    url= \"http://genius.com\" + soup.find_all(\"a\", class_=\"full_width_button\")[-1][\"href\"]\n",
    "    soup=make_soup(url)\n",
    "    alb_tags=soup.find_all(\"a\", class_=\"album_link\")\n",
    "    for album in alb_tags: \n",
    "        alb_links.append(album['href'])\n",
    "    return alb_links"
   ]
  },
  {
   "cell_type": "code",
   "execution_count": 426,
   "metadata": {},
   "outputs": [],
   "source": [
    "# pass a page of text (not a beautiful soup object) and the artist and use string operations to return a list of writers\n",
    "def get_writers(page, artist_name):\n",
    "    writers=set()\n",
    "    # in pages with writer info, a \"Written By\" div is followed by a tags with writers. \n",
    "    begin=page.find(\"Written By\")\n",
    "    end = page[begin:].find(\"</div\")\n",
    "    if begin != -1 and end != -1:\n",
    "        sub_sect=BeautifulSoup(page[begin:begin+end])\n",
    "        writer_tags=sub_sect.find_all(\"a\")\n",
    "        for writer_tag in writer_tags: \n",
    "            writers.add(writer_tag.get_text().lower())\n",
    "    # rappers are by default considered the writer of their song (unless it is a cover which is outside this project)\n",
    "    writers.add(artist_name)\n",
    "    return list(writers)"
   ]
  },
  {
   "cell_type": "code",
   "execution_count": 427,
   "metadata": {},
   "outputs": [],
   "source": [
    "# Input beautiful soup object of some song from a desired artist and the artist's name in lowercase\n",
    "# returns just the desired artist's contributions to the song - for instance a chorus sung by a featured artist is not returned.\n",
    "def get_song_lyrics(soup, artist_name):\n",
    "    lyr_list=[]\n",
    "    lyrics = soup.find('div', class_='lyrics').get_text()\n",
    "    #lyrics are broken up into sections with headers - eg) [Chorus: Drake] - followed by lyrics \n",
    "    lyric_split=re.split(r\"\\n\\[\", lyrics)\n",
    "    for line in lyric_split:\n",
    "        #break into header and lyric, which should return exactly two elements in the body of the song.\n",
    "        head_lyr=re.split(r\"]\\n\", line)\n",
    "        if len(head_lyr) ==2: \n",
    "            # song's with multiple authors have a colon in the header.  \n",
    "            # only return lyrics from sections that exclusively list the desired artist as author\n",
    "            if re.search(\":.*\", head_lyr[0]):\n",
    "                if re.search(\":.*\", head_lyr[0])[0].lower()== \": \"+artist_name:\n",
    "                    lyr_list.append(head_lyr[1])   \n",
    "            # if there was no colon, then it is a one author song, and thus is added to lyrics\n",
    "            else:\n",
    "                lyr_list.append(head_lyr[1])\n",
    "    lyrics = \"\".join(lyr_list)\n",
    "    return lyrics"
   ]
  },
  {
   "cell_type": "code",
   "execution_count": 428,
   "metadata": {},
   "outputs": [],
   "source": [
    "#given artist name and url to artist's genius homepage, writes lyrics and metadata from that page to json files corresponding to their album name\n",
    "# returns the number of songs sucessfully written\n",
    "def main(url, artist_name): \n",
    "    artist_name=artist_name.strip().lower()\n",
    "    alb_links=get_alb_links(url)\n",
    "    song_count=0\n",
    "    for alb in alb_links: \n",
    "        json_lst=[]\n",
    "        alb_url=\"http://genius.com\"+alb\n",
    "        soup=make_soup(alb_url)\n",
    "        #get year of album from first instance of \"metadata_unit\" class; currenly only looking for data after 2000. \n",
    "        year=soup.find('div', class_=\"metadata_unit\").get_text()\n",
    "        if year:\n",
    "            if re.search(r\"(20\\d\\d)\", year):\n",
    "                year=re.search(r\"20\\d\\d\", year)[0]\n",
    "            else:\n",
    "                year = None\n",
    "        album=soup.find(\"title\").get_text()\n",
    "        start=album.find(\"-\")\n",
    "        end=album.find(\"Lyrics\")\n",
    "        if start != -1 and end != -1: \n",
    "            album=album[start+2:end]\n",
    "\n",
    "        #links to songs found in u-display_block on album page\n",
    "        songs=soup.find_all(\"a\", class_=\"u-display_block\")\n",
    "        for song in songs:\n",
    "            json_dict={}\n",
    "            song_url=song[\"href\"]\n",
    "            #manually get page and soup because get_writers uses string operations, not beautiful soup\n",
    "            page= requests.get(song_url, headers = {\"Accept\": \"text/html\"})\n",
    "            if page.status_code != 200:\n",
    "                print(\"ERROR: {} threw  status code {}\\n\".format(song_url, page.status_code))\n",
    "                continue\n",
    "            writers=get_writers(page.text, artist_name)\n",
    "            soup = BeautifulSoup(page.text)       \n",
    "            lyrics = get_song_lyrics(soup, artist_name)\n",
    "            title=soup.find(\"h1\", class_=\"header_with_cover_art-primary_info-title\").get_text()\n",
    "            json_dict[\"title\"] = title\n",
    "            json_dict[\"year\"] = year\n",
    "            json_dict[\"album\"] = album\n",
    "            json_dict[\"writers\"] = writers\n",
    "            json_dict[\"artist\"] = artist_name\n",
    "            json_dict[\"lyrics\"]= lyrics\n",
    "            json_lst.append(json_dict)\n",
    "            song_count+=1\n",
    "            time.sleep(2)\n",
    "        file_name = \"data/\"+artist_name.replace(' ', '_')+'/'+album.replace(\" \", \"_\")+'.json'\n",
    "        with open(file_name, 'w') as file: \n",
    "            json.dump(json_lst, file)\n",
    "    return song_count\n"
   ]
  },
  {
   "cell_type": "code",
   "execution_count": 429,
   "metadata": {},
   "outputs": [
    {
     "name": "stdout",
     "output_type": "stream",
     "text": [
      "ERROR: https://genius.com/Drake-inst-lyrics threw  status code404\n",
      "\n",
      "ERROR: https://genius.com/Drake-acapella-lyrics threw  status code404\n",
      "\n",
      "259\n"
     ]
    }
   ],
   "source": [
    "url= 'https://genius.com/artists/Drake'\n",
    "artist_name= 'drake'\n",
    "print(main(url, artist_name))"
   ]
  },
  {
   "cell_type": "code",
   "execution_count": 430,
   "metadata": {},
   "outputs": [
    {
     "name": "stdout",
     "output_type": "stream",
     "text": [
      "ERROR: https://genius.com/Quentin-miller-no-scrimage-lyrics threw  status code404\n",
      "\n",
      "ERROR: https://genius.com/Quentin-miller-grey-steel-lyrics threw  status code404\n",
      "\n",
      "ERROR: https://genius.com/Quentin-miller-shanes-introduction-lyrics threw  status code404\n",
      "\n",
      "ERROR: https://genius.com/Quentin-miller-taste-lyrics threw  status code404\n",
      "\n",
      "ERROR: https://genius.com/Quentin-miller-5-oh-x-two-lyrics threw  status code404\n",
      "\n",
      "ERROR: https://genius.com/Quentin-miller-acquisistion-lyrics threw  status code404\n",
      "\n",
      "ERROR: https://genius.com/Quentin-miller-reckless-lyrics threw  status code404\n",
      "\n",
      "ERROR: https://genius.com/Quentin-miller-apply-pressure-lyrics threw  status code404\n",
      "\n",
      "ERROR: https://genius.com/Quentin-miller-eden-lyrics threw  status code404\n",
      "\n",
      "ERROR: https://genius.com/Quentin-miller-free-tacos-lyrics threw  status code404\n",
      "\n",
      "ERROR: https://genius.com/Quentin-miller-cul-cha-lyrics threw  status code404\n",
      "\n",
      "ERROR: https://genius.com/Quentin-miller-love-below-zero-lyrics threw  status code404\n",
      "\n",
      "ERROR: https://genius.com/Quentin-miller-sum-different-x-thanks-from-ricky-lyrics threw  status code404\n",
      "\n",
      "ERROR: https://genius.com/Quentin-miller-grand-lyrics threw  status code404\n",
      "\n",
      "ERROR: https://genius.com/Quentin-miller-litkit-lyrics threw  status code404\n",
      "\n",
      "ERROR: https://genius.com/Quentin-miller-to-turning-26-lyrics threw  status code404\n",
      "\n",
      "ERROR: https://genius.com/Quentin-miller-thanks2you-lyrics threw  status code404\n",
      "\n",
      "ERROR: https://genius.com/Quentin-miller-leanonme-wdng-lyrics threw  status code404\n",
      "\n",
      "ERROR: https://genius.com/Quentin-miller-hs17-lyrics threw  status code404\n",
      "\n",
      "ERROR: https://genius.com/Quentin-miller-changeless-lyrics threw  status code404\n",
      "\n",
      "ERROR: https://genius.com/Quentin-miller-outro-lyrics threw  status code404\n",
      "\n",
      "ERROR: https://genius.com/Quentin-miller-thewinter-bonus-lyrics threw  status code404\n",
      "\n",
      "87\n"
     ]
    }
   ],
   "source": [
    "url= 'https://genius.com/artists/Quentin-miller'\n",
    "artist_name= 'quentin miller'\n",
    "print(main(url, artist_name))"
   ]
  }
 ],
 "metadata": {
  "kernelspec": {
   "display_name": "Python 3",
   "language": "python",
   "name": "python3"
  },
  "language_info": {
   "codemirror_mode": {
    "name": "ipython",
    "version": 3
   },
   "file_extension": ".py",
   "mimetype": "text/x-python",
   "name": "python",
   "nbconvert_exporter": "python",
   "pygments_lexer": "ipython3",
   "version": "3.6.8"
  }
 },
 "nbformat": 4,
 "nbformat_minor": 4
}
