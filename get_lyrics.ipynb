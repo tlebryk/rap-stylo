{
 "cells": [
  {
   "cell_type": "code",
   "execution_count": 219,
   "metadata": {},
   "outputs": [],
   "source": [
    "from bs4 import BeautifulSoup\n",
    "import requests \n",
    "import numpy as np \n",
    "import json\n",
    "import time\n",
    "import pdb\n",
    "import os \n",
    "import re"
   ]
  },
  {
   "cell_type": "code",
   "execution_count": 220,
   "metadata": {},
   "outputs": [],
   "source": [
    "# given url, returns beautiful soup option\n",
    "def make_soup(url): \n",
    "    my_page = requests.get(url, headers = {\"Accept\": \"text/html\"})\n",
    "    if my_page.status_code == 200:\n",
    "        soup = BeautifulSoup(my_page.text, 'html.parser')\n",
    "        return soup\n",
    "    else: \n",
    "        print(\"ERROR: {} threw status code {}\\n\".format(url, my_page.status_code))\n",
    "        return None\n"
   ]
  },
  {
   "cell_type": "code",
   "execution_count": 221,
   "metadata": {},
   "outputs": [],
   "source": [
    "#input a url to an artist page, returns list of relative links to the artist's albums. \n",
    "def get_alb_links(url): \n",
    "    alb_links=[]\n",
    "    soup=make_soup(url)\n",
    "    # last full_width_button is a tag with a url to a page with all the artist's albums\n",
    "    url= \"http://genius.com\" + soup.find_all(\"a\", class_=\"full_width_button\")[-1][\"href\"]\n",
    "    soup=make_soup(url)\n",
    "    alb_tags=soup.find_all(\"a\", class_=\"album_link\")\n",
    "    for album in alb_tags: \n",
    "        alb_links.append(album['href'])\n",
    "    return alb_links"
   ]
  },
  {
   "cell_type": "code",
   "execution_count": 223,
   "metadata": {},
   "outputs": [],
   "source": [
    "# recursive function that takes: \n",
    "# 1) url to first page of a artist's songs \n",
    "# 2) artsist name (lowercase, hyphens for spaces) to match only songs by that artist (some songs_links are just production credits).\n",
    "# 3) a list of accumulated songs to pass between function calls\n",
    "# 4) a string that if contained in a song url will not be added. Used to screen out 'Drake' reference tracks.\n",
    "# returns a list of all songs\n",
    "def pg_to_songs(url, artist_name, ls, taboo='drake'):\n",
    "#     print(ls)\n",
    "    soup=make_soup(url)\n",
    "    songs=soup.find_all(class_='song_name work_in_progress song_link')\n",
    "    for song in songs: \n",
    "        if song['href'].lower().find(taboo) == -1 and song['href'].lower().find(artist_name) != -1:\n",
    "            ls.append(song['href'])\n",
    "    x=soup.find('a', class_='next_page')\n",
    "    if (x):\n",
    "        time.sleep(1)\n",
    "        return pg_to_songs(' http://genius.com'+x['href'], artist_name, ls)\n",
    "    else: \n",
    "        return ls"
   ]
  },
  {
   "cell_type": "code",
   "execution_count": 217,
   "metadata": {
    "collapsed": true,
    "jupyter": {
     "outputs_hidden": true
    }
   },
   "outputs": [
    {
     "data": {
      "text/plain": [
       "['https://genius.com/Quentin-miller-051317-freestyle-lyrics',\n",
       " 'https://genius.com/Quentin-miller-10-bands-reference-track-for-drake-lyrics',\n",
       " 'https://genius.com/Quentin-miller-1st-impression-came-in-lyrics',\n",
       " 'https://genius.com/Quentin-miller-2-late-lyrics',\n",
       " 'https://genius.com/Quentin-miller-4-21-freestyle-lyrics',\n",
       " 'https://genius.com/Quentin-miller-4real-lyrics',\n",
       " 'https://genius.com/Quentin-miller-a-lyrics',\n",
       " 'https://genius.com/Quentin-miller-acquisitions-lyrics',\n",
       " 'https://genius.com/Quentin-miller-addy-lyrics',\n",
       " 'https://genius.com/Quentin-miller-all-around-feeling-lyrics',\n",
       " 'https://genius.com/Quentin-miller-alley-oop-lyrics',\n",
       " 'https://genius.com/Quentin-miller-arkham-asylum-lyrics',\n",
       " 'https://genius.com/Quentin-miller-astral-plane-lyrics',\n",
       " 'https://genius.com/Quentin-miller-aug28-lyrics',\n",
       " 'https://genius.com/Quentin-miller-awareness-freestyle-lyrics',\n",
       " 'https://genius.com/Quentin-miller-bad-influence-lyrics',\n",
       " 'https://genius.com/Quentin-miller-bad-intention-lyrics',\n",
       " 'https://genius.com/Quentin-miller-bank-lyrics',\n",
       " 'https://genius.com/Quentin-miller-bop-fs-v103-lyrics',\n",
       " 'https://genius.com/Quentin-miller-broke-up-breaking-up-remix-lyrics',\n",
       " 'https://genius.com/Quentin-miller-c3-wit-me-lyrics',\n",
       " 'https://genius.com/Quentin-miller-caesar-salad-lyrics',\n",
       " 'https://genius.com/Quentin-miller-cant-deal-lyrics',\n",
       " 'https://genius.com/Quentin-miller-cant-trust-toast-up-freestyle-lyrics',\n",
       " 'https://genius.com/Quentin-miller-catchmeslippin-lyrics',\n",
       " 'https://genius.com/Quentin-miller-cease-and-desist-lyrics',\n",
       " 'https://genius.com/Quentin-miller-chance-lyrics',\n",
       " 'https://genius.com/Quentin-miller-choze-lyrics',\n",
       " 'https://genius.com/Quentin-miller-cinematic-lyrics',\n",
       " 'https://genius.com/Quentin-miller-closing-statements-lyrics',\n",
       " 'https://genius.com/Quentin-miller-cold-day-in-hell-lyrics',\n",
       " 'https://genius.com/Quentin-miller-complex-lyrics',\n",
       " 'https://genius.com/Quentin-miller-concussion-lyrics',\n",
       " 'https://genius.com/Quentin-miller-contingency-plan-lyrics',\n",
       " 'https://genius.com/Quentin-miller-correct-lyrics',\n",
       " 'https://genius.com/Quentin-miller-criss-angel-lyrics',\n",
       " 'https://genius.com/Quentin-miller-cyan-lyrics',\n",
       " 'https://genius.com/Quentin-miller-dangelo-lyrics',\n",
       " 'https://genius.com/Quentin-miller-darkside-lyrics',\n",
       " 'https://genius.com/Quentin-miller-deep-lyrics',\n",
       " 'https://genius.com/Quentin-miller-destiny-freestyle-lyrics',\n",
       " 'https://genius.com/Quentin-miller-differences-lyrics',\n",
       " 'https://genius.com/Quentin-miller-dilla-drums-growth-lyrics',\n",
       " 'https://genius.com/Quentin-miller-dirty-autotune-lyrics',\n",
       " 'https://genius.com/Quentin-miller-dodger-lyrics',\n",
       " 'https://genius.com/Quentin-miller-do-you-have-the-time-lyrics',\n",
       " 'https://genius.com/Quentin-miller-dui-freestyle-lyrics',\n",
       " 'https://genius.com/Quentin-miller-eclipse-lyrics',\n",
       " 'https://genius.com/Quentin-miller-entry-86-lyrics',\n",
       " 'https://genius.com/Quentin-miller-expression-3-lyrics',\n",
       " 'https://genius.com/Quentin-miller-expression-4-lyrics',\n",
       " 'https://genius.com/Quentin-miller-expression-5-lyrics',\n",
       " 'https://genius.com/Quentin-miller-fax-lyrics',\n",
       " 'https://genius.com/Quentin-miller-features-lyrics',\n",
       " 'https://genius.com/Quentin-miller-flashy-lifestyle-lyrics',\n",
       " 'https://genius.com/Quentin-miller-fleece-lyrics',\n",
       " 'https://genius.com/Quentin-miller-gambles-lyrics',\n",
       " 'https://genius.com/Quentin-miller-games-freestyle-no-diss-lyrics',\n",
       " 'https://genius.com/Quentin-miller-ghostwriting-open-letter-annotated',\n",
       " 'https://genius.com/Quentin-miller-going-back-lyrics',\n",
       " 'https://genius.com/Quentin-miller-gold-lyrics',\n",
       " 'https://genius.com/Quentin-miller-good-news-lyrics',\n",
       " 'https://genius.com/Quentin-miller-grey-leather-lyrics',\n",
       " 'https://genius.com/Quentin-miller-gunmetal-bapes-lyrics',\n",
       " 'https://genius.com/Quentin-miller-half-lyrics',\n",
       " 'https://genius.com/Quentin-miller-havin-ave-lyrics',\n",
       " 'https://genius.com/Quentin-miller-high-level-lyrics',\n",
       " 'https://genius.com/Quentin-miller-high-speed-chase-lyrics',\n",
       " 'https://genius.com/Quentin-miller-hot-n-cold-lyrics',\n",
       " 'https://genius.com/Quentin-miller-hta-flow-lyrics',\n",
       " 'https://genius.com/Quentin-miller-intended-lyrics',\n",
       " 'https://genius.com/Quentin-miller-is-that-lyrics',\n",
       " 'https://genius.com/Quentin-miller-jaw-droppin-lyrics',\n",
       " 'https://genius.com/Quentin-miller-joel-goodson-lyrics',\n",
       " 'https://genius.com/Quentin-miller-jokes-cant-take-a-joke-remix-lyrics',\n",
       " 'https://genius.com/Quentin-miller-judge-dread-lyrics',\n",
       " 'https://genius.com/Quentin-miller-just-in-case-lyrics',\n",
       " 'https://genius.com/Quentin-miller-kellyslate-pennstate-lyrics',\n",
       " 'https://genius.com/Quentin-miller-kill-or-be-killed-lyrics',\n",
       " 'https://genius.com/Quentin-miller-know-yourself-reference-track-for-drake-lyrics',\n",
       " 'https://genius.com/Quentin-miller-lies-what-i-live-lyrics',\n",
       " 'https://genius.com/Quentin-miller-long-time-lyrics',\n",
       " 'https://genius.com/Quentin-miller-lookin-out-lyrics',\n",
       " 'https://genius.com/Quentin-miller-look-what-i-did-lyrics',\n",
       " 'https://genius.com/Quentin-miller-lost-in-it-all-lyrics',\n",
       " 'https://genius.com/Quentin-miller-love-costs-lyrics',\n",
       " 'https://genius.com/Quentin-miller-made-a-mark-lyrics',\n",
       " 'https://genius.com/Quentin-miller-make-it-take-it-lyrics',\n",
       " 'https://genius.com/Quentin-miller-minimum-wage-freestyle-lyrics',\n",
       " 'https://genius.com/Quentin-miller-na-fr-lyrics',\n",
       " 'https://genius.com/Quentin-miller-new-equipment-freestyle-lyrics',\n",
       " 'https://genius.com/Quentin-miller-newton-freestyle-lyrics',\n",
       " 'https://genius.com/Quentin-miller-nocturnal-lyrics',\n",
       " 'https://genius.com/Quentin-miller-no-reason-lyrics',\n",
       " 'https://genius.com/Quentin-miller-notification-medication-lyrics',\n",
       " 'https://genius.com/Quentin-miller-not-the-same-lyrics',\n",
       " 'https://genius.com/Quentin-miller-oj-dem-lyrics',\n",
       " 'https://genius.com/Quentin-miller-open-to-interpretation-lyrics',\n",
       " 'https://genius.com/Quentin-miller-out-of-my-hands-lyrics',\n",
       " 'https://genius.com/Quentin-miller-peace-lyrics',\n",
       " 'https://genius.com/Quentin-miller-pipeline-good-lyrics',\n",
       " 'https://genius.com/Quentin-miller-playmaker-lyrics',\n",
       " 'https://genius.com/Quentin-miller-poms-free-lyrics',\n",
       " 'https://genius.com/Quentin-miller-pop-up-lyrics',\n",
       " 'https://genius.com/Quentin-miller-post-malone-lyrics',\n",
       " 'https://genius.com/Quentin-miller-potential-lyrics',\n",
       " 'https://genius.com/Power-106-fm-power-106-freestyle-with-quentin-miller-lyrics',\n",
       " 'https://genius.com/Quentin-miller-powerless-lyrics',\n",
       " 'https://genius.com/Quentin-miller-praying-mantis-freestyle-lyrics',\n",
       " 'https://genius.com/Quentin-miller-problem-solved-lyrics',\n",
       " 'https://genius.com/Quentin-miller-progress-lyrics',\n",
       " 'https://genius.com/Quentin-miller-proper-freestyle-lyrics',\n",
       " 'https://genius.com/Quentin-miller-puff-free-lyrics',\n",
       " 'https://genius.com/Quentin-miller-put-nothing-past-you-lyrics',\n",
       " 'https://genius.com/Quentin-miller-qm-x-chasethemoney-unreleased-lyrics',\n",
       " 'https://genius.com/Quentin-miller-quentin-miller-freestyles-on-flex-freestyle-102-lyrics',\n",
       " 'https://genius.com/Quentin-miller-redefined-beauty-lyrics',\n",
       " 'https://genius.com/Quentin-miller-reign-lyrics',\n",
       " 'https://genius.com/Quentin-miller-rental-cars-lyrics',\n",
       " 'https://genius.com/Quentin-miller-resident-evil-lyrics',\n",
       " 'https://genius.com/Quentin-miller-rico-reference-lyrics',\n",
       " 'https://genius.com/Quentin-miller-rite-aid-lyrics',\n",
       " 'https://genius.com/Quentin-miller-road-less-traveled-lyrics',\n",
       " 'https://genius.com/Quentin-miller-roe-lyrics',\n",
       " 'https://genius.com/Quentin-miller-scenic-route-lyrics',\n",
       " 'https://genius.com/Quentin-miller-senseless-lyrics',\n",
       " 'https://genius.com/Quentin-miller-show-me-lyrics',\n",
       " 'https://genius.com/Quentin-miller-sicko-re-imagined-lyrics',\n",
       " 'https://genius.com/Quentin-miller-skateboard-p-free-lyrics',\n",
       " 'https://genius.com/Quentin-miller-so-excited-lyrics',\n",
       " 'https://genius.com/Quentin-miller-so-much-lyrics',\n",
       " 'https://genius.com/Quentin-miller-sos-lyrics',\n",
       " 'https://genius.com/Quentin-miller-spectacular-lyrics',\n",
       " 'https://genius.com/Quentin-miller-stairwell-freestyle-lyrics',\n",
       " 'https://genius.com/Quentin-miller-still-here-lyrics',\n",
       " 'https://genius.com/Quentin-miller-still-standin-lyrics',\n",
       " 'https://genius.com/Quentin-miller-still-standin-extended-version-lyrics',\n",
       " 'https://genius.com/Quentin-miller-stuck-up-lyrics',\n",
       " 'https://genius.com/Quentin-miller-surreal-lyrics',\n",
       " 'https://genius.com/Quentin-miller-taste-freestyle-lyrics',\n",
       " 'https://genius.com/Quentin-miller-thanks-from-slink-lyrics',\n",
       " 'https://genius.com/Quentin-miller-thanks-from-toronto-lyrics',\n",
       " 'https://genius.com/Quentin-miller-the-light-lyrics',\n",
       " 'https://genius.com/Quentin-miller-the-source-lyrics',\n",
       " 'https://genius.com/Quentin-miller-thought-it-was-over-lyrics',\n",
       " 'https://genius.com/Quentin-miller-to-turning-27-bonus-track-lyrics',\n",
       " 'https://genius.com/Quentin-miller-unexplained-freestyle-lyrics',\n",
       " 'https://genius.com/Quentin-miller-unholy-lyrics',\n",
       " 'https://genius.com/Quentin-miller-unreleased-freestyle-lyrics',\n",
       " 'https://genius.com/Quentin-miller-untitled-lyrics',\n",
       " 'https://genius.com/Quentin-miller-used-to-reference-track-for-drake-lyrics',\n",
       " 'https://genius.com/Quentin-miller-values-lyrics',\n",
       " 'https://genius.com/Quentin-miller-version-203-freestyle-lyrics',\n",
       " 'https://genius.com/Quentin-miller-warp-speed-lyrics',\n",
       " 'https://genius.com/Quentin-miller-well-done-lyrics',\n",
       " 'https://genius.com/Quentin-miller-what-a-time-lyrics',\n",
       " 'https://genius.com/Quentin-miller-what-they-didnt-want-lyrics',\n",
       " 'https://genius.com/Quentin-miller-windows-lyrics',\n",
       " 'https://genius.com/Quentin-miller-wwtd-interlude-lyrics']"
      ]
     },
     "execution_count": 217,
     "metadata": {},
     "output_type": "execute_result"
    }
   ],
   "source": [
    "url='https://genius.com/artists/songs?for_artist_page=537002&id=Quentin-miller'\n",
    "song_links=pg_to_songs(url, 'quentin-miller', [])\n",
    "song_links\n",
    "# len(song_links)\n",
    "# soup=make_soup(url)\n",
    "# ls=[]\n",
    "# songs=soup.find_all(class_='song_name work_in_progress song_link')\n",
    "# # len(songs)\n",
    "# artist_name='quentin-miller'\n",
    "# print(artist_name)\n",
    "# for song in songs: \n",
    "#     if song['href'].lower().find(artist_name) != -1:\n",
    "#         ls.append(song['href'])\n",
    "# print(ls)\n",
    "#             break\n",
    "# songs=soup.find_all('li', class_='')\n",
    "# songs[0].find('a')['href']\n",
    "# soup.find(class_='song_list primary_list')\n",
    "# get_song_links('https://genius.com/artists/Quentin-miller', 'quentin-miller')"
   ]
  },
  {
   "cell_type": "code",
   "execution_count": 218,
   "metadata": {
    "collapsed": true,
    "jupyter": {
     "outputs_hidden": true
    }
   },
   "outputs": [
    {
     "data": {
      "text/plain": [
       "159"
      ]
     },
     "execution_count": 218,
     "metadata": {},
     "output_type": "execute_result"
    }
   ],
   "source": [
    "len(song_links)"
   ]
  },
  {
   "cell_type": "code",
   "execution_count": 188,
   "metadata": {
    "collapsed": true,
    "jupyter": {
     "outputs_hidden": true
    }
   },
   "outputs": [
    {
     "data": {
      "text/plain": [
       "[<li class=\"\" data-id=\"3715186\">\n",
       " <a class=\"song_name work_in_progress song_link\" href=\"https://genius.com/Quentin-miller-051317-freestyle-lyrics\" title=\"05.1317 Freestyle prod. by Ricky Himself\">\n",
       " <span class=\"title_with_artists\">\n",
       " <span class=\"song_title\">05.1317 Freestyle</span> prod. by Ricky Himself\n",
       "     \n",
       "   </span>\n",
       " </a>\n",
       " </li>,\n",
       " <li class=\"\" data-id=\"703738\">\n",
       " <a class=\"song_name published song_link\" href=\"https://genius.com/Drake-10-bands-lyrics\" title=\"10 Bands by Drake  prod. by Boi-1da\">\n",
       " <span class=\"title_with_artists\">\n",
       " <span class=\"song_title\">10 Bands</span> by Drake  prod. by Boi-1da\n",
       "     \n",
       "   </span>\n",
       " </a>\n",
       " </li>,\n",
       " <li class=\"\" data-id=\"2268533\">\n",
       " <a class=\"song_name work_in_progress song_link\" href=\"https://genius.com/Quentin-miller-10-bands-reference-track-for-drake-lyrics\" title=\"10 Bands [reference track for Drake] prod. by Boi-1da\">\n",
       " <span class=\"title_with_artists\">\n",
       " <span class=\"song_title\">10 Bands [reference track for Drake]</span> prod. by Boi-1da\n",
       "     \n",
       "   </span>\n",
       " </a>\n",
       " </li>,\n",
       " <li class=\"\" data-id=\"5810140\">\n",
       " <a class=\"song_name work_in_progress song_link\" href=\"https://genius.com/Alkebulan-1970s-lyrics\" title=\"1970's by Alkebulan  (Ft. Alexis Glenn) prod. by Alkebulan\">\n",
       " <span class=\"title_with_artists\">\n",
       " <span class=\"song_title\">1970's</span> by Alkebulan  (Ft. Alexis Glenn) prod. by Alkebulan\n",
       "     \n",
       "   </span>\n",
       " </a>\n",
       " </li>,\n",
       " <li class=\"\" data-id=\"2904843\">\n",
       " <a class=\"song_name work_in_progress song_link\" href=\"https://genius.com/Cardcaptorxp-19-years-lyrics\" title=\"19 Years... by CardCaptorXP  prod. by Gollum (Producer)\">\n",
       " <span class=\"title_with_artists\">\n",
       " <span class=\"song_title\">19 Years...</span> by CardCaptorXP  prod. by Gollum (Producer)\n",
       "     \n",
       "   </span>\n",
       " </a>\n",
       " </li>,\n",
       " <li class=\"\" data-id=\"4954033\">\n",
       " <a class=\"song_name work_in_progress song_link\" href=\"https://genius.com/Quentin-miller-1st-impression-came-in-lyrics\" title=\"1st Impression... (Came In) prod. by Ultra Quality\">\n",
       " <span class=\"title_with_artists\">\n",
       " <span class=\"song_title\">1st Impression... (Came In)</span> prod. by Ultra Quality\n",
       "     \n",
       "   </span>\n",
       " </a>\n",
       " </li>,\n",
       " <li class=\"\" data-id=\"2991646\">\n",
       " <a class=\"song_name work_in_progress song_link\" href=\"https://genius.com/Quentin-miller-2-late-lyrics\" title=\"2 Late.. prod. by Groove_RMG\">\n",
       " <span class=\"title_with_artists\">\n",
       " <span class=\"song_title\">2 Late..</span> prod. by Groove_RMG\n",
       "     \n",
       "   </span>\n",
       " </a>\n",
       " </li>,\n",
       " <li class=\"\" data-id=\"3763808\">\n",
       " <a class=\"song_name work_in_progress song_link\" href=\"https://genius.com/Quentin-miller-4-21-freestyle-lyrics\" title=\"4:21 Freestyle\">\n",
       " <span class=\"title_with_artists\">\n",
       " <span class=\"song_title\">4:21 Freestyle</span>\n",
       " </span>\n",
       " </a>\n",
       " </li>,\n",
       " <li class=\"\" data-id=\"5519903\">\n",
       " <a class=\"song_name work_in_progress song_link\" href=\"https://genius.com/Quentin-miller-4real-lyrics\" title=\"4Real (Ft. CJ Francis IV) prod. by 30 Roc\">\n",
       " <span class=\"title_with_artists\">\n",
       " <span class=\"song_title\">4Real</span> (Ft. CJ Francis IV) prod. by 30 Roc\n",
       "     \n",
       "   </span>\n",
       " </a>\n",
       " </li>,\n",
       " <li class=\"\" data-id=\"703756\">\n",
       " <a class=\"song_name work_in_progress song_link\" href=\"https://genius.com/Drake-6-man-lyrics\" title=\"6 Man by Drake  prod. by 40\">\n",
       " <span class=\"title_with_artists\">\n",
       " <span class=\"song_title\">6 Man</span> by Drake  prod. by 40\n",
       "     \n",
       "   </span>\n",
       " </a>\n",
       " </li>,\n",
       " <li class=\"\" data-id=\"3834101\">\n",
       " <a class=\"song_name work_in_progress song_link\" href=\"https://genius.com/Quentin-miller-a-lyrics\" title=\"_A_ (Ft. Pe$o)\">\n",
       " <span class=\"title_with_artists\">\n",
       " <span class=\"song_title\">_A_</span> (Ft. Pe$o)\n",
       "     \n",
       "   </span>\n",
       " </a>\n",
       " </li>,\n",
       " <li class=\"\" data-id=\"3291163\">\n",
       " <a class=\"song_name work_in_progress song_link\" href=\"https://genius.com/Wdng-crshrs-accounts-lyrics\" title=\"Accounts by WDNG Crshrs  (Ft. CJ Francis IV) prod. by Nick Miles\">\n",
       " <span class=\"title_with_artists\">\n",
       " <span class=\"song_title\">Accounts</span> by WDNG Crshrs  (Ft. CJ Francis IV) prod. by Nick Miles\n",
       "     \n",
       "   </span>\n",
       " </a>\n",
       " </li>,\n",
       " <li class=\"\" data-id=\"2264863\">\n",
       " <a class=\"song_name work_in_progress song_link\" href=\"https://genius.com/Quentin-miller-acquisitions-lyrics\" title=\"Acquisitions\">\n",
       " <span class=\"title_with_artists\">\n",
       " <span class=\"song_title\">Acquisitions</span>\n",
       " </span>\n",
       " </a>\n",
       " </li>,\n",
       " <li class=\"\" data-id=\"3014219\">\n",
       " <a class=\"song_name work_in_progress song_link\" href=\"https://genius.com/Quentin-miller-addy-lyrics\" title=\"Addy (Ft. Jace) prod. by Soundz\">\n",
       " <span class=\"title_with_artists\">\n",
       " <span class=\"song_title\">Addy</span> (Ft. Jace) prod. by Soundz\n",
       "     \n",
       "   </span>\n",
       " </a>\n",
       " </li>,\n",
       " <li class=\"\" data-id=\"2373372\">\n",
       " <a class=\"song_name work_in_progress song_link\" href=\"https://genius.com/Wdng-crshrs-airplane-mode-lyrics\" title=\"Airplane Mode by WDNG Crshrs  prod. by Nick Miles\">\n",
       " <span class=\"title_with_artists\">\n",
       " <span class=\"song_title\">Airplane Mode</span> by WDNG Crshrs  prod. by Nick Miles\n",
       "     \n",
       "   </span>\n",
       " </a>\n",
       " </li>,\n",
       " <li class=\"\" data-id=\"2255351\">\n",
       " <a class=\"song_name work_in_progress song_link\" href=\"https://genius.com/Quentin-miller-all-around-feeling-lyrics\" title=\"All Around Feeling\">\n",
       " <span class=\"title_with_artists\">\n",
       " <span class=\"song_title\">All Around Feeling</span>\n",
       " </span>\n",
       " </a>\n",
       " </li>,\n",
       " <li class=\"\" data-id=\"4666416\">\n",
       " <a class=\"song_name work_in_progress song_link\" href=\"https://genius.com/Quentin-miller-alley-oop-lyrics\" title=\"ALLEY OOP (Ft. Alex Filho &amp; Pe$o)\">\n",
       " <span class=\"title_with_artists\">\n",
       " <span class=\"song_title\">ALLEY OOP</span> (Ft. Alex Filho &amp; Pe$o)\n",
       "     (Unreleased)\n",
       "   </span>\n",
       " </a>\n",
       " </li>,\n",
       " <li>\n",
       " <p>Add an image, video, or tweet by pasting in the URL:</p>\n",
       " <pre>http://genius.com/logo.png</pre>\n",
       " </li>,\n",
       " <li>\n",
       " <p>Add a link like this:</p>\n",
       " <pre>[Check out my fave website](http://genius.com)</pre>\n",
       " </li>,\n",
       " <li>\n",
       " <p>Simple formatting:</p>\n",
       " <pre>\n",
       " *Italicize Album Titles*\n",
       " &gt; This is how you quote from other sources</pre>\n",
       " </li>]"
      ]
     },
     "execution_count": 188,
     "metadata": {},
     "output_type": "execute_result"
    }
   ],
   "source": [
    "# print(soup.prettify())"
   ]
  },
  {
   "cell_type": "code",
   "execution_count": 224,
   "metadata": {},
   "outputs": [],
   "source": [
    "# like get_albums but bypass albums and just get single list of all songs (even those not part of any album)\n",
    "# instead return all the songs on their songs page \n",
    "def get_song_links(url, artist_name):\n",
    "    artist_name=artist_name.lower()\n",
    "    soup=make_soup(url)\n",
    "    # first full_width_button is a tag with a url to a page with all the artist's albums\n",
    "    url= \"http://genius.com\" + soup.find_all(\"a\", class_=\"full_width_button\")[0][\"href\"]\n",
    "    song_links=pg_to_songs(url, artist_name, [])\n",
    "    return song_links"
   ]
  },
  {
   "cell_type": "code",
   "execution_count": 225,
   "metadata": {},
   "outputs": [],
   "source": [
    "# pass a page of text (not a beautiful soup object) and the artist and use string operations to return a list of writers\n",
    "def get_writers(page, artist_name):\n",
    "    writers=set()\n",
    "    # in pages with writer info, a \"Written By\" div is followed by a tags with writers. \n",
    "    begin=page.find(\"Written By\")\n",
    "    end = page[begin:].find(\"</div\")\n",
    "    if begin != -1 and end != -1:\n",
    "        sub_sect=BeautifulSoup(page[begin:begin+end])\n",
    "        writer_tags=sub_sect.find_all(\"a\")\n",
    "        for writer_tag in writer_tags: \n",
    "            writers.add(writer_tag.get_text().lower())\n",
    "    # rappers are by default considered the writer of their song (unless it is a cover which is outside this project)\n",
    "    writers.add(artist_name)\n",
    "    return list(writers)"
   ]
  },
  {
   "cell_type": "code",
   "execution_count": 239,
   "metadata": {},
   "outputs": [],
   "source": [
    "# Input beautiful soup object of some song from a desired artist and the artist's name (lowercase, hyphens as spaces)\n",
    "# returns just the desired artist's contributions to the song - for instance a chorus sung by a featured artist is not returned.\n",
    "def get_song_lyrics(soup, artist_name):\n",
    "    artist_name=artist_name.replace('-' ' ')\n",
    "    lyr_list=[]\n",
    "    lyrics = soup.find('div', class_='lyrics').get_text()\n",
    "    #lyrics are broken up into sections with headers - eg) [Chorus: Drake] - followed by lyrics \n",
    "    lyric_split=re.split(r\"\\n\\[\", lyrics)\n",
    "    for line in lyric_split:\n",
    "        #break into header and lyric, which should return exactly two elements in the body of the song.\n",
    "        head_lyr=re.split(r\"]\\n\", line)\n",
    "        if len(head_lyr) ==2: \n",
    "            # song's with multiple authors have a colon in the header.  \n",
    "            # only return lyrics from sections that exclusively list the desired artist as author\n",
    "            if re.search(\":.*\", head_lyr[0]):\n",
    "                if re.search(\":.*\", head_lyr[0])[0].lower()== \": \"+artist_name:\n",
    "                    lyr_list.append(head_lyr[1])   \n",
    "            # if there was no colon, then it is a one author song, and thus is added to lyrics\n",
    "            else:\n",
    "                lyr_list.append(head_lyr[1])\n",
    "    lyrics = \"\".join(lyr_list)\n",
    "    return lyrics"
   ]
  },
  {
   "cell_type": "code",
   "execution_count": 233,
   "metadata": {},
   "outputs": [],
   "source": [
    "# writes a list of json - one for each song\n",
    "# label each year as 0 and each album as an empty string for formatting.\n",
    "# returns number of songs without missing lyrics. \n",
    "def song_links_to_json(song_links, artist_name): \n",
    "    json_ls = []\n",
    "    song_count=0\n",
    "    for song in song_links:\n",
    "        json_dict={}\n",
    "        #manually get page and soup because get_writers uses string operations, not beautiful soup\n",
    "        page= requests.get(song, headers = {\"Accept\": \"text/html\"})\n",
    "        if page.status_code != 200:\n",
    "            print(\"ERROR: {} threw  status code {}\\n\".format(song_url, page.status_code))\n",
    "            continue\n",
    "        soup = BeautifulSoup(page.text)\n",
    "        lyrics = get_song_lyrics(soup, artist_name)\n",
    "        if lyrics != '':\n",
    "            writers=get_writers(page.text, artist_name)\n",
    "            head=soup.find('div', class_='header_with_cover_art-primary_info_container')\n",
    "            artist=head.find(class_='header_with_cover_art-primary_info-primary_artist').contents[0]\n",
    "            title = head.find(class_='header_with_cover_art-primary_info-title').contents[0]\n",
    "            json_dict[\"title\"] = title\n",
    "            json_dict[\"year\"] = 0\n",
    "            json_dict[\"album\"] = ''\n",
    "            json_dict[\"writers\"] = writers\n",
    "            json_dict[\"artist\"] = artist_name\n",
    "            json_dict[\"lyrics\"]= lyrics\n",
    "            json_ls.append(json_dict)\n",
    "            song_count+=1\n",
    "        time.sleep(2)\n",
    "    file_name = \"data/\"+artist_name.replace('-', '_')+'/all.json'\n",
    "    with open(file_name, 'w') as file: \n",
    "        json.dump(json_ls, file)\n",
    "    return song_count"
   ]
  },
  {
   "cell_type": "code",
   "execution_count": 234,
   "metadata": {},
   "outputs": [],
   "source": [
    "#input artist's genius homepage and artist name in all lowercase with hyphens as spaces (eg quentin-miller)\n",
    "# write all the artitsts songs to 'data/artist_name/all.json'\n",
    "# returns number of songs successfully retreived and written\n",
    "def song_main(url, artist_name):\n",
    "    song_links=get_song_links(url, artist_name)\n",
    "    return song_links_to_json(song_links, artist_name)\n"
   ]
  },
  {
   "cell_type": "code",
   "execution_count": 235,
   "metadata": {},
   "outputs": [],
   "source": [
    "#given artist name and url to artist's genius homepage, writes lyrics and metadata from that page to json files corresponding to their album name\n",
    "# returns the number of songs sucessfully written\n",
    "def main(url, artist_name): \n",
    "    artist_name=artist_name.strip().lower()\n",
    "    alb_links=get_alb_links(url)\n",
    "    song_count=0\n",
    "    for alb in alb_links: \n",
    "        json_ls=[]\n",
    "        alb_url=\"http://genius.com\"+alb\n",
    "        soup=make_soup(alb_url)\n",
    "        #get year of album from first instance of \"metadata_unit\" class; currenly only looking for data after 2000. \n",
    "        year=soup.find('div', class_=\"metadata_unit\").get_text()\n",
    "        if year:\n",
    "            if re.search(r\"(20\\d\\d)\", year):\n",
    "                year=re.search(r\"20\\d\\d\", year)[0]\n",
    "            else:\n",
    "                year = None\n",
    "        album=soup.find(\"title\").get_text()\n",
    "        start=album.find(\"-\")\n",
    "        end=album.find(\"Lyrics\")\n",
    "        if start != -1 and end != -1: \n",
    "            album=album[start+2:end]\n",
    "\n",
    "        #links to songs found in u-display_block on album page\n",
    "        songs=soup.find_all(\"a\", class_=\"u-display_block\")\n",
    "        for song in songs:\n",
    "            json_dict={}\n",
    "            song_url=song[\"href\"]\n",
    "            #manually get page and soup because get_writers uses string operations, not beautiful soup\n",
    "            page= requests.get(song_url, headers = {\"Accept\": \"text/html\"})\n",
    "            if page.status_code != 200:\n",
    "                print(\"ERROR: {} threw  status code {}\\n\".format(song_url, page.status_code))\n",
    "                continue\n",
    "            \n",
    "            lyrics = get_song_lyrics(soup, artist_name)\n",
    "            if (lyrics != ''):\n",
    "                writers=get_writers(page.text, artist_name)\n",
    "                soup = BeautifulSoup(page.text)       \n",
    "                title=soup.find(\"h1\", class_=\"header_with_cover_art-primary_info-title\").get_text()\n",
    "                json_dict[\"title\"] = title\n",
    "                json_dict[\"year\"] = year\n",
    "                json_dict[\"album\"] = album\n",
    "                json_dict[\"writers\"] = writers\n",
    "                json_dict[\"artist\"] = artist_name\n",
    "                json_dict[\"lyrics\"]= lyrics\n",
    "                json_lst.append(json_dict)\n",
    "                song_count+=1\n",
    "            time.sleep(2)\n",
    "        file_name = \"data/\"+artist_name.replace(' ', '_')+'/'+album.replace(\" \", \"_\")+'.json'\n",
    "        with open(file_name, 'w') as file: \n",
    "            json.dump(json_ls, file)\n",
    "    return song_count\n"
   ]
  },
  {
   "cell_type": "code",
   "execution_count": 236,
   "metadata": {},
   "outputs": [
    {
     "name": "stdout",
     "output_type": "stream",
     "text": [
      "Found 99 Quentin-miller songs\n"
     ]
    }
   ],
   "source": [
    "url=\"https://genius.com/artists/Quentin-miller\"\n",
    "count=song_main(url, 'quentin-miller')\n",
    "print(\"Found {} Quentin-miller songs\".format(count))"
   ]
  },
  {
   "cell_type": "code",
   "execution_count": 238,
   "metadata": {},
   "outputs": [
    {
     "data": {
      "text/plain": [
       "'Yeah, I apologize, slipped a couple times\\nSlipped into a dark place running towards the light\\nI slipped, like DMX in \\'98 I owned up to my mistakes\\nI had a couple records leak\\nThat dark cloud been rainin\\' on my career since then, shits been- Difficult, but then again I can’t recall when it hasn\\'t been\\nThis much alcohol is hazardous but fuck being sober I’d rather this Somehow the word \"Lit\" became synonymous with happiness\\nI remember back when I ain\\'t have to twist a cap for me to spit a rap\\nDreams do come true I’m really livin\\' that\\nBut nightmares do too, see what I’m gettin\\' at?\\nThe signs was right there and I was missin\\' that\\nAll along it was in me, I was just livin\\' timid\\nAfraid to say that I’m just as good as my competition\\nIf not better, strange feeling, the same feeling\\nWhen I was a kid and lookin\\' out the window\\nAt the other children, get on the bus and shit\\nI felt I wasn’t living, the grass is always greener\\nI know the deeper meaning, hold up\\nWhile I’m awake I’m dreaming, on some Dr. King shit\\nI do believe in freedom, that shit so expensive\\nThat’s why the whips be rented, fake it till you get it\\nWhen I pass away, what they gone say \\'bout Quentin?\\nDid he make a difference? Was he even different?\\nWhat\\'d he teach his children? What he preach in lyrics?\\nHow he lift our spirits? Not that fake shit, not that vain shit\\nHow’d he change shit? You see the games rigged\\nI made a name in it, that’s the hard part, the even harder part\\nNot fallin off, Nike watcha calls\\nOn the green like Jason day asun\\nMake a way or don’t, it’s up to you\\nThat’s the beauty, if you don’t, or if you do you get to choose\\nIt’s up to you\\n'"
      ]
     },
     "execution_count": 238,
     "metadata": {},
     "output_type": "execute_result"
    }
   ],
   "source": [
    "url='https://genius.com/Quentin-miller-4-21-freestyle-lyrics'\n",
    "soup = make_soup(url)\n",
    "get_song_lyrics(soup, 'quentin miller')"
   ]
  },
  {
   "cell_type": "code",
   "execution_count": 429,
   "metadata": {},
   "outputs": [
    {
     "name": "stdout",
     "output_type": "stream",
     "text": [
      "ERROR: https://genius.com/Drake-inst-lyrics threw  status code404\n",
      "\n",
      "ERROR: https://genius.com/Drake-acapella-lyrics threw  status code404\n",
      "\n",
      "259\n"
     ]
    }
   ],
   "source": [
    "url= 'https://genius.com/artists/Drake'\n",
    "artist_name= 'drake'\n",
    "print(main(url, artist_name))"
   ]
  },
  {
   "cell_type": "code",
   "execution_count": 430,
   "metadata": {},
   "outputs": [
    {
     "name": "stdout",
     "output_type": "stream",
     "text": [
      "ERROR: https://genius.com/Quentin-miller-no-scrimage-lyrics threw  status code404\n",
      "\n",
      "ERROR: https://genius.com/Quentin-miller-grey-steel-lyrics threw  status code404\n",
      "\n",
      "ERROR: https://genius.com/Quentin-miller-shanes-introduction-lyrics threw  status code404\n",
      "\n",
      "ERROR: https://genius.com/Quentin-miller-taste-lyrics threw  status code404\n",
      "\n",
      "ERROR: https://genius.com/Quentin-miller-5-oh-x-two-lyrics threw  status code404\n",
      "\n",
      "ERROR: https://genius.com/Quentin-miller-acquisistion-lyrics threw  status code404\n",
      "\n",
      "ERROR: https://genius.com/Quentin-miller-reckless-lyrics threw  status code404\n",
      "\n",
      "ERROR: https://genius.com/Quentin-miller-apply-pressure-lyrics threw  status code404\n",
      "\n",
      "ERROR: https://genius.com/Quentin-miller-eden-lyrics threw  status code404\n",
      "\n",
      "ERROR: https://genius.com/Quentin-miller-free-tacos-lyrics threw  status code404\n",
      "\n",
      "ERROR: https://genius.com/Quentin-miller-cul-cha-lyrics threw  status code404\n",
      "\n",
      "ERROR: https://genius.com/Quentin-miller-love-below-zero-lyrics threw  status code404\n",
      "\n",
      "ERROR: https://genius.com/Quentin-miller-sum-different-x-thanks-from-ricky-lyrics threw  status code404\n",
      "\n",
      "ERROR: https://genius.com/Quentin-miller-grand-lyrics threw  status code404\n",
      "\n",
      "ERROR: https://genius.com/Quentin-miller-litkit-lyrics threw  status code404\n",
      "\n",
      "ERROR: https://genius.com/Quentin-miller-to-turning-26-lyrics threw  status code404\n",
      "\n",
      "ERROR: https://genius.com/Quentin-miller-thanks2you-lyrics threw  status code404\n",
      "\n",
      "ERROR: https://genius.com/Quentin-miller-leanonme-wdng-lyrics threw  status code404\n",
      "\n",
      "ERROR: https://genius.com/Quentin-miller-hs17-lyrics threw  status code404\n",
      "\n",
      "ERROR: https://genius.com/Quentin-miller-changeless-lyrics threw  status code404\n",
      "\n",
      "ERROR: https://genius.com/Quentin-miller-outro-lyrics threw  status code404\n",
      "\n",
      "ERROR: https://genius.com/Quentin-miller-thewinter-bonus-lyrics threw  status code404\n",
      "\n",
      "87\n"
     ]
    }
   ],
   "source": [
    "# url= 'https://genius.com/artists/Quentin-miller'\n",
    "# artist_name= 'quentin miller'\n",
    "# print(main(url, artist_name))"
   ]
  },
  {
   "cell_type": "code",
   "execution_count": 13,
   "metadata": {},
   "outputs": [
    {
     "name": "stdout",
     "output_type": "stream",
     "text": [
      "http://genius.com/artists/songs?for_artist_page=537417&id=Wdng-crshrs\n"
     ]
    }
   ],
   "source": [
    "url= 'https://genius.com/artists/Wdng-crshrs'\n",
    "alb_links=[]\n",
    "soup=make_soup(url)\n",
    "# last full_width_button is a tag with a url to a page with all the artist's albums\n",
    "url= \"http://genius.com\" + soup.find_all(\"a\", class_=\"full_width_button\")[-1][\"href\"]\n",
    "print(url)\n",
    "# soup=make_soup(url)\n",
    "# alb_tags=soup.find_all(\"a\", class_=\"album_link\")\n",
    "# for album in alb_tags: \n",
    "#     alb_links.append(album['href'])\n",
    "# get_alb_links(url)\n",
    "# artist_name= 'quentin miller'\n",
    "# print(main(url, artist_name))"
   ]
  },
  {
   "cell_type": "code",
   "execution_count": 14,
   "metadata": {},
   "outputs": [
    {
     "name": "stdout",
     "output_type": "stream",
     "text": [
      "http://genius.com/artists/albums?for_artist_page=47131&id=Partynextdoor\n"
     ]
    }
   ],
   "source": [
    "url= 'https://genius.com/artists/Partynextdoor'\n",
    "alb_links=[]\n",
    "soup=make_soup(url)\n",
    "# last full_width_button is a tag with a url to a page with all the artist's albums\n",
    "url= \"http://genius.com\" + soup.find_all(\"a\", class_=\"full_width_button\")[-1][\"href\"]\n",
    "print(url)"
   ]
  },
  {
   "cell_type": "code",
   "execution_count": null,
   "metadata": {},
   "outputs": [],
   "source": [
    "url= 'https://genius.com/artists/Quentin-miller'\n",
    "artist_name= 'quentin miller'\n",
    "print(main(url, artist_name))"
   ]
  },
  {
   "cell_type": "code",
   "execution_count": 12,
   "metadata": {},
   "outputs": [
    {
     "data": {
      "text/plain": [
       "['/albums/Partynextdoor/The-jahron-b-collection',\n",
       " '/albums/Partynextdoor/Seven-days',\n",
       " '/albums/Partynextdoor/Colours',\n",
       " '/albums/Partynextdoor/Pnd-leaks-unreleased',\n",
       " '/albums/Partynextdoor/Partymobile-deluxe',\n",
       " '/albums/Partynextdoor/Partymobile',\n",
       " '/albums/Partynextdoor/Partynextdoor-two',\n",
       " '/albums/Partynextdoor/Partynextdoor',\n",
       " '/albums/Partynextdoor/Partynextdoor-3-p3',\n",
       " '/albums/Partynextdoor/Colours-2']"
      ]
     },
     "execution_count": 12,
     "metadata": {},
     "output_type": "execute_result"
    }
   ],
   "source": [
    "url= 'https://genius.com/artists/Partynextdoor'\n",
    "get_alb_links(url)\n",
    "\n",
    "# artist_name= 'partynextdoor'\n",
    "# print(main(url, artist_name))"
   ]
  },
  {
   "cell_type": "code",
   "execution_count": 28,
   "metadata": {},
   "outputs": [
    {
     "name": "stdout",
     "output_type": "stream",
     "text": [
      "196\n"
     ]
    }
   ],
   "source": [
    "url= 'https://genius.com/artists/J-cole'\n",
    "artist_name= 'j cole'\n",
    "print(main(url, artist_name))"
   ]
  },
  {
   "cell_type": "code",
   "execution_count": 141,
   "metadata": {},
   "outputs": [],
   "source": [
    "# input path to folder with jsons of artist's albums, convert into txt files and write them into 'data/text' folder \n",
    "# returns number of songs that got written\n",
    "# r stylo package works better with txt files with special naming conventions of class/author + '_' + title\n",
    "def json_to_txt(path):\n",
    "    if (path[-1] != '\\\\'):\n",
    "        path = path+'\\\\'\n",
    "    song_count=0\n",
    "    for filename in os.listdir(path): \n",
    "        if filename.find('.json')==-1:\n",
    "            continue            \n",
    "        with open(path+filename) as f: \n",
    "            data = json.load(f)\n",
    "        #use first song to create file name following stylo file naming conventions\n",
    "        name=data[0]['artist'].strip().split()[0].capitalize()\n",
    "        name = re.sub(r'[-_\\. ]', '', name)\n",
    "        album=data[0]['album'].strip(' ').split()[0].capitalize()\n",
    "        album = re.sub(r'[-_\\. ]', '', album)\n",
    "        txt_path = 'data/texts/'\n",
    "        txt_file = ''.join([txt_path, name, '_', album, '.txt'])\n",
    "        #account for first words being shared in album titles such as multiple editions of a mixtape - (e.g. tha Carter I, the carter II etc).  \n",
    "        if os.path.isfile(txt_file): \n",
    "            suffix=1\n",
    "            while True: \n",
    "                txt_file = ''.join([txt_path, name, '_', album, str(suffix), '.txt'])\n",
    "                if os.path.isfile(txt_file): \n",
    "                    suffix+=1\n",
    "                    continue\n",
    "                else: \n",
    "                    break\n",
    "        with open(txt_file, 'w', errors='ignore',) as f: \n",
    "            # for now include every song including those with multiple writers due to small size of corpus\n",
    "            for song in data:\n",
    "                if len(song['lyrics']) > 10:\n",
    "                    f.write(song['lyrics'])\n",
    "                    song_count+=1\n",
    "    return song_count"
   ]
  },
  {
   "cell_type": "code",
   "execution_count": 144,
   "metadata": {},
   "outputs": [
    {
     "name": "stdout",
     "output_type": "stream",
     "text": [
      "243\n"
     ]
    }
   ],
   "source": [
    "path = 'data/drake/'\n",
    "drake_count=json_to_txt(path)\n",
    "print(drake_count)"
   ]
  },
  {
   "cell_type": "code",
   "execution_count": 145,
   "metadata": {},
   "outputs": [
    {
     "name": "stdout",
     "output_type": "stream",
     "text": [
      "75\n"
     ]
    }
   ],
   "source": [
    "path = 'data/quentin_miller/'\n",
    "miller_count=json_to_txt(path)\n",
    "print(miller_count)"
   ]
  },
  {
   "cell_type": "code",
   "execution_count": 142,
   "metadata": {},
   "outputs": [],
   "source": [
    "# removes all files of a directory (use with caution)\n",
    "# prompts user to enter y only if sure \n",
    "def clean(path):\n",
    "    print(\"Are you sure you want to permanently delete all the contents of the {} directory?\\n\".format(path))\n",
    "    print(\"enter 'y' if you want to delete {} items, any other character will cancel\\n\".format(len(os.listdir(path))))\n",
    "    response = input()\n",
    "    if response == 'y': \n",
    "        print('removed {} files'.format(len(os.listdir(path))))\n",
    "        for filename in os.listdir(path):\n",
    "            os.remove(path+filename)\n",
    "       \n",
    "    else: \n",
    "        print(\"Removal cancelled\\n\")"
   ]
  },
  {
   "cell_type": "code",
   "execution_count": 143,
   "metadata": {},
   "outputs": [
    {
     "name": "stdout",
     "output_type": "stream",
     "text": [
      "Are you sure you want to permanently delete all the contents of the data/texts/ directory?\n",
      "\n",
      "enter 'y' if you want to delete 29 items, any other character will cancel\n",
      "\n"
     ]
    },
    {
     "name": "stdin",
     "output_type": "stream",
     "text": [
      " y\n"
     ]
    },
    {
     "name": "stdout",
     "output_type": "stream",
     "text": [
      "removed 29 files\n"
     ]
    }
   ],
   "source": [
    "clean('data/texts/')"
   ]
  },
  {
   "cell_type": "code",
   "execution_count": 7,
   "metadata": {},
   "outputs": [
    {
     "data": {
      "text/plain": [
       "['Drake_Care.txt',\n",
       " 'Drake_Certified.txt',\n",
       " 'Drake_Comeback.txt',\n",
       " 'Drake_Dark.txt',\n",
       " 'Drake_Drake.txt',\n",
       " 'Drake_If.txt',\n",
       " 'Drake_More.txt',\n",
       " 'Drake_Nothing.txt',\n",
       " 'Drake_Room.txt',\n",
       " 'Drake_Scary.txt',\n",
       " 'Drake_Scorpion.txt',\n",
       " 'Drake_So.txt',\n",
       " 'Drake_So1.txt',\n",
       " 'Drake_Take.txt',\n",
       " 'Drake_Thank.txt',\n",
       " 'Drake_The.txt',\n",
       " 'Drake_Views.txt',\n",
       " 'Quentin_Essentials,.txt',\n",
       " 'Quentin_Falco.txt',\n",
       " 'Quentin_Gunmetal.txt',\n",
       " 'Quentin_Hey!.txt',\n",
       " 'Quentin_Hey!1.txt',\n",
       " 'Quentin_Na.txt',\n",
       " 'Quentin_No(thanks).txt',\n",
       " 'Quentin_Qm.txt',\n",
       " 'Quentin_Shredded.txt',\n",
       " 'Quentin_Unreleased.txt',\n",
       " 'Quentin_Weekends.txt',\n",
       " 'Quentin_Xx.txt']"
      ]
     },
     "execution_count": 7,
     "metadata": {},
     "output_type": "execute_result"
    }
   ],
   "source": [
    "[file for file in os.listdir('data/texts/')] "
   ]
  }
 ],
 "metadata": {
  "kernelspec": {
   "display_name": "Python 3",
   "language": "python",
   "name": "python3"
  },
  "language_info": {
   "codemirror_mode": {
    "name": "ipython",
    "version": 3
   },
   "file_extension": ".py",
   "mimetype": "text/x-python",
   "name": "python",
   "nbconvert_exporter": "python",
   "pygments_lexer": "ipython3",
   "version": "3.6.8"
  },
  "toc-showtags": false
 },
 "nbformat": 4,
 "nbformat_minor": 4
}
