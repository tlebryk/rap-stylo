{
 "cells": [
  {
   "cell_type": "code",
   "execution_count": null,
   "metadata": {},
   "outputs": [],
   "source": [
    "# alternative analyzer that attempts to distill words to root. eg) runs = run; walked=walk\n",
    "def stemming(doc): \n",
    "    return (ps.stem(w) for w in analyze(doc))"
   ]
  },
  {
   "cell_type": "code",
   "execution_count": null,
   "metadata": {},
   "outputs": [],
   "source": [
    "# print(\"validation accuracy by model:\")\n",
    "# for key in score_dict: \n",
    "#     print(key, \": {:.2f}\".format(score_dict[key]))\n",
    "# print(\"test accuracy by model:\")\n",
    "# for ind, key in enumerate(model_dict): \n",
    "#     X_trans = model_dict[key]['vect'].transform(X_test)\n",
    "#     X_trans = model_dict[key]['tfidf'].transform(X_trans)\n",
    "#     print(key, \": {:.2f}\".format(accuracy_score(y_test, model_dict[key]['clf'].predict(X_trans))))\n",
    "# X_trans=pad_sequences(tokenizer.texts_to_sequences(X_test), maxlen=maxlen)\n",
    "# print(\"cnn : {:.2f}\".format(accuracy_score(y_test, cnn_model.best_estimator_.predict(X_trans))))    \n",
    "# print(\"ensemble : {:.2f}\".format(accuracy_score(y_test, ensemble_pred(X_test))))\n",
    "# print(\"trainng accuracy by model:\")\n",
    "# for ind, key in enumerate(model_dict): \n",
    "#     X_trans = model_dict[key]['vect'].transform(X_train)\n",
    "#     X_trans = model_dict[key]['tfidf'].transform(X_trans)\n",
    "#     print(key, \": {:.2f}\".format(accuracy_score(y_train, model_dict[key]['clf'].predict(X_trans))))\n",
    "# X_trans=pad_sequences(tokenizer.texts_to_sequences(X_train), maxlen=maxlen)\n",
    "# print(\"cnn : {:.2f}\".format(accuracy_score(y_train, cnn_model.best_estimator_.predict(X_trans))))   \n",
    "# print(\"ensemble : {:.2f}\".format(accuracy_score(y_train, ensemble_pred(X_train))))"
   ]
  }
 ],
 "metadata": {
  "kernelspec": {
   "display_name": "Python 3",
   "language": "python",
   "name": "python3"
  },
  "language_info": {
   "codemirror_mode": {
    "name": "ipython",
    "version": 3
   },
   "file_extension": ".py",
   "mimetype": "text/x-python",
   "name": "python",
   "nbconvert_exporter": "python",
   "pygments_lexer": "ipython3",
   "version": "3.6.8"
  }
 },
 "nbformat": 4,
 "nbformat_minor": 4
}
