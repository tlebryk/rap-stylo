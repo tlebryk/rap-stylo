{
 "cells": [
  {
   "cell_type": "code",
   "execution_count": 97,
   "metadata": {},
   "outputs": [],
   "source": [
    "from bs4 import BeautifulSoup\n",
    "import requests \n",
    "import numpy as np \n"
   ]
  },
  {
   "cell_type": "code",
   "execution_count": 98,
   "metadata": {},
   "outputs": [],
   "source": [
    "from bs4 import BeautifulSoup\n",
    "import numpy as np \n",
    "import pandas as pd \n",
    "import os \n",
    "import re\n",
    "import requests"
   ]
  },
  {
   "cell_type": "code",
   "execution_count": 99,
   "metadata": {},
   "outputs": [],
   "source": [
    "def request_artist_albums(artist :str): \n",
    "    page = 1 \n",
    "    albums = []\n",
    "    while True: \n",
    "        response = re"
   ]
  },
  {
   "cell_type": "code",
   "execution_count": 100,
   "metadata": {},
   "outputs": [],
   "source": [
    "def url_to_soup(url): \n",
    "    my_page = requests.get(url, headers = {\"Accept\": \"text/html\"})\n",
    "    assert(my_page.status_code == 200)\n",
    "    soup = BeautifulSoup(my_page.text, 'html.parser')\n",
    "    return soup\n"
   ]
  },
  {
   "cell_type": "code",
   "execution_count": 101,
   "metadata": {},
   "outputs": [],
   "source": [
    "url= \"https://genius.com/artists/Drake\"\n",
    "soup=url_to_soup(url)\n",
    "# last full_width_button is a tag with a url to a page with all the artist's albums\n",
    "url= \"http://genius.com\" + soup.find_all(\"a\", class_=\"full_width_button\")[-1][\"href\"]\n",
    "soup=url_to_soup(url)\n",
    "alb_tags=soup.find_all(\"a\", class_=\"album_link\")"
   ]
  },
  {
   "cell_type": "code",
   "execution_count": 119,
   "metadata": {},
   "outputs": [
    {
     "data": {
      "text/plain": [
       "'data/Dark_Lane_Demo_Tapes'"
      ]
     },
     "execution_count": 119,
     "metadata": {},
     "output_type": "execute_result"
    }
   ],
   "source": [
    "# conents of tag is album name. \n",
    "alb_name=alb_tags[1].get_text().replace(\" \", \"_\")\n",
    "path = \"data/\"+alb_name\n",
    "path"
   ]
  },
  {
   "cell_type": "code",
   "execution_count": 103,
   "metadata": {},
   "outputs": [],
   "source": [
    "alb_url=\"http://genius.com\"+alb_tags[1][\"href\"]\n",
    "soup=url_to_soup(alb_url)\n"
   ]
  },
  {
   "cell_type": "code",
   "execution_count": 121,
   "metadata": {},
   "outputs": [],
   "source": [
    "songs=soup.find_all(\"a\", class_=\"u-display_block\")\n",
    "# for song in songs: \n",
    "    "
   ]
  },
  {
   "cell_type": "code",
   "execution_count": 125,
   "metadata": {},
   "outputs": [
    {
     "data": {
      "text/plain": [
       "\"For my nigga Hush\\r\\nYeah, look\\r\\nDressed in fatigues, I rep the East with my trustees\\r\\nSmokin' on\\u2005crushed\\u2005leaves\\r\\nThey turn they\\u2005back on everything we built, then\\u2005they must bleed\\r\\nI've seen splatter hit the snow when the blood freeze\\r\\nStraps over territory they know we must keep\\r\\nGet home and white Air Forces get brushed clean\\r\\nBack when my mama would interrupt sleep\\r\\nTo tell me hurry up 'cause the bus leaves\\r\\nSummertime heatwaves, I used to just cut sleeves\\r\\nMy shorty really love me, man, she want me to cut keys\\r\\nI can't do that normal type of life, is it just me?\\r\\nNiggas steady try to ride the wave, but it's rough seas\\r\\nI'm losin' enough sleep dealin' with envy\\r\\nAnd the news that they sent for me got the block in a frenzy\\r\\nIt's on Meech like it's trendy\\r\\nRunnin' round from Laurier to MacKenzie when the city's empty, yeah\\r\\nEarly twenties, but I want fifties, hundreds, not pennies\\r\\nI need plenty\\r\\nGot me ready to flip the F out like Fendi\\r\\nWhatever's in me, it's takin' over\\r\\nI gotta bust it down, break it open\\r\\nUntil somebody starts takin' notice, then we rollin'\\r\\nYeah, then we rollin', then we rollin'\\r\\nDeep pockets on a nigga, I can't find my phone in\\r\\nNow we rollin'\\r\\nYeah, then we rollin', then we rollin'\\r\\nDeep pockets on a nigga, I can't find my phone in\\r\\nNow we rollin'\\r\\nLook\\r\\nBack when Big Apple sold dreams, I stuck to my own thing\\r\\nBack when the house that I own now was my home screen\\r\\nBefore I'd ever hit the road and feel like the home team\\r\\nRunnin' missions\\r\\nPyramid schemes just like the Egyptians\\r\\nBack when hotlines were still flippin'\\r\\nNow I'm seein' money off of hotlines blingin' but it feels different\\r\\nTransitions, plans switchin', ambition\\r\\nMindin' my business, buildin' a business, et cetera\\r\\nInspired by a few, but my mind really drives itself like Tesla\\r\\nI always had a little somethin' extra\\r\\nBack when Corey was our sole investor\\r\\nAnd the car could get from A to B, but won't impress ya\\r\\nLook, I ain't no baller\\r\\nStill need my accounts longer like the way my nephew's gettin' taller\\r\\nMy soundtrack is the second Carter, dreamin' of acceptin' offers\\r\\nAnd easin' tensions\\r\\nKeepin' family out of East Detention\\r\\nAnd out of Pine Hill Funeral Center\\r\\nSpots we got no business enterin'\\r\\nBack when Jill Scott was the apple of my afrocentric eye\\r\\nI had to find a way to get someone's attention\\r\\nThen we rollin', then we rollin'\\r\\nDeep pockets on a nigga, I can't find my phone in\\r\\nNow we rollin'\\r\\nYeah, then we rollin', then we rollin'\\r\\nDeep pockets on a nigga, I can't find my phone in\\r\\nNow we rollin'\""
      ]
     },
     "execution_count": 125,
     "metadata": {},
     "output_type": "execute_result"
    }
   ],
   "source": [
    "song_url=songs[0][\"href\"]\n",
    "soup=url_to_soup(song_url)\n",
    "lyrics = soup.find('div', class_='lyrics').get_text()\n",
    "#remove identifiers like chorus, verse, etc\n",
    "lyrics = re.sub(r'[\\(\\[].*?[\\)\\]]', '', lyrics)\n",
    "#remove empty lines\n",
    "lyrics = os.linesep.join([s for s in lyrics.splitlines() if s])         \n",
    "\n"
   ]
  },
  {
   "cell_type": "code",
   "execution_count": 126,
   "metadata": {},
   "outputs": [
    {
     "name": "stdout",
     "output_type": "stream",
     "text": [
      "For my nigga Hush\n",
      "Yeah, look\n",
      "Dressed in fatigues, I rep the East with my trustees\n",
      "Smokin' on crushed leaves\n",
      "They turn they back on everything we built, then they must bleed\n",
      "I've seen splatter hit the snow when the blood freeze\n",
      "Straps over territory they know we must keep\n",
      "Get home and white Air Forces get brushed clean\n",
      "Back when my mama would interrupt sleep\n",
      "To tell me hurry up 'cause the bus leaves\n",
      "Summertime heatwaves, I used to just cut sleeves\n",
      "My shorty really love me, man, she want me to cut keys\n",
      "I can't do that normal type of life, is it just me?\n",
      "Niggas steady try to ride the wave, but it's rough seas\n",
      "I'm losin' enough sleep dealin' with envy\n",
      "And the news that they sent for me got the block in a frenzy\n",
      "It's on Meech like it's trendy\n",
      "Runnin' round from Laurier to MacKenzie when the city's empty, yeah\n",
      "Early twenties, but I want fifties, hundreds, not pennies\n",
      "I need plenty\n",
      "Got me ready to flip the F out like Fendi\n",
      "Whatever's in me, it's takin' over\n",
      "I gotta bust it down, break it open\n",
      "Until somebody starts takin' notice, then we rollin'\n",
      "Yeah, then we rollin', then we rollin'\n",
      "Deep pockets on a nigga, I can't find my phone in\n",
      "Now we rollin'\n",
      "Yeah, then we rollin', then we rollin'\n",
      "Deep pockets on a nigga, I can't find my phone in\n",
      "Now we rollin'\n",
      "Look\n",
      "Back when Big Apple sold dreams, I stuck to my own thing\n",
      "Back when the house that I own now was my home screen\n",
      "Before I'd ever hit the road and feel like the home team\n",
      "Runnin' missions\n",
      "Pyramid schemes just like the Egyptians\n",
      "Back when hotlines were still flippin'\n",
      "Now I'm seein' money off of hotlines blingin' but it feels different\n",
      "Transitions, plans switchin', ambition\n",
      "Mindin' my business, buildin' a business, et cetera\n",
      "Inspired by a few, but my mind really drives itself like Tesla\n",
      "I always had a little somethin' extra\n",
      "Back when Corey was our sole investor\n",
      "And the car could get from A to B, but won't impress ya\n",
      "Look, I ain't no baller\n",
      "Still need my accounts longer like the way my nephew's gettin' taller\n",
      "My soundtrack is the second Carter, dreamin' of acceptin' offers\n",
      "And easin' tensions\n",
      "Keepin' family out of East Detention\n",
      "And out of Pine Hill Funeral Center\n",
      "Spots we got no business enterin'\n",
      "Back when Jill Scott was the apple of my afrocentric eye\n",
      "I had to find a way to get someone's attention\n",
      "Then we rollin', then we rollin'\n",
      "Deep pockets on a nigga, I can't find my phone in\n",
      "Now we rollin'\n",
      "Yeah, then we rollin', then we rollin'\n",
      "Deep pockets on a nigga, I can't find my phone in\n",
      "Now we rollin'\n"
     ]
    }
   ],
   "source": [
    "# next steps: convert lyrics into json with writers in part of it and the lyrics in the rest. Get that meta data. \n",
    "\n",
    "print(lyrics)"
   ]
  },
  {
   "cell_type": "code",
   "execution_count": 84,
   "metadata": {},
   "outputs": [
    {
     "data": {
      "text/plain": [
       "'/albums/Drake/Certified-lover-boy'"
      ]
     },
     "execution_count": 84,
     "metadata": {},
     "output_type": "execute_result"
    }
   ],
   "source": [
    "for \n",
    "albums[0][\"href\"]"
   ]
  },
  {
   "cell_type": "code",
   "execution_count": null,
   "metadata": {},
   "outputs": [],
   "source": [
    "def get_album_songs"
   ]
  },
  {
   "cell_type": "code",
   "execution_count": 23,
   "metadata": {},
   "outputs": [],
   "source": [
    "GENIUS_API_TOKEN = \"B7HNcnRq7nYu74m3SYrC98U7pEBsJYjTT-8_cQ8RTri8I8fqxdjp9YbnDjDka2Y3\""
   ]
  },
  {
   "cell_type": "code",
   "execution_count": 24,
   "metadata": {},
   "outputs": [],
   "source": [
    "# Get artist object from Genius API\n",
    "def request_artist_info(artist_name, page):\n",
    "    base_url = 'https://api.genius.com'\n",
    "    headers = {'Authorization': 'Bearer ' + GENIUS_API_TOKEN}\n",
    "    search_url = base_url + '/search?per_page=10&page=' + str(page)\n",
    "    data = {'q': artist_name}\n",
    "    response = requests.get(search_url, data=data, headers=headers)\n",
    "    return response\n",
    "\n",
    "\n"
   ]
  },
  {
   "cell_type": "code",
   "execution_count": null,
   "metadata": {},
   "outputs": [],
   "source": [
    "# Get Genius.com song url's from artist object\n",
    "def request_song_url(artist_name, song_cap):\n",
    "    page = 1\n",
    "    songs = []\n",
    "    \n",
    "    while True:\n",
    "        response = request_artist_info(artist_name, page)\n",
    "        json = response.json()\n",
    "        # Collect up to song_cap song objects from artist\n",
    "        song_info = []\n",
    "        for hit in json['response']['hits']:\n",
    "            if artist_name.lower() in hit['result']['primary_artist']['name'].lower():\n",
    "                song_info.append(hit)\n",
    "    \n",
    "        # Collect song URL's from song objects\n",
    "        for song in song_info:\n",
    "            if (len(songs) < song_cap):\n",
    "                url = song['result']['url']\n",
    "                songs.append(url)\n",
    "            \n",
    "        if (len(songs) == song_cap):\n",
    "            break\n",
    "        else:\n",
    "            page += 1\n",
    "        \n",
    "    print('Found {} songs by {}'.format(len(songs), artist_name))\n",
    "    return songs"
   ]
  },
  {
   "cell_type": "code",
   "execution_count": 25,
   "metadata": {},
   "outputs": [],
   "source": [
    "# Scrape lyrics from a Genius.com song URL\n",
    "def scrape_song_lyrics(url):\n",
    "    page = requests.get(url)\n",
    "    html = BeautifulSoup(page.text, 'html.parser')\n",
    "    lyrics = html.find('div', class_='lyrics').get_text()\n",
    "    #remove identifiers like chorus, verse, etc\n",
    "    lyrics = re.sub(r'[\\(\\[].*?[\\)\\]]', '', lyrics)\n",
    "    #remove empty lines\n",
    "    lyrics = os.linesep.join([s for s in lyrics.splitlines() if s])         \n",
    "    return lyrics\n"
   ]
  },
  {
   "cell_type": "code",
   "execution_count": 26,
   "metadata": {},
   "outputs": [
    {
     "name": "stdout",
     "output_type": "stream",
     "text": [
      "Found 2 songs by Drake\n"
     ]
    }
   ],
   "source": [
    "drake2 = request_song_url(artist_name='Drake', song_cap=2)"
   ]
  },
  {
   "cell_type": "code",
   "execution_count": 31,
   "metadata": {},
   "outputs": [],
   "source": [
    "ly2=scrape_song_lyrics(url=drake2[1])"
   ]
  },
  {
   "cell_type": "code",
   "execution_count": 32,
   "metadata": {},
   "outputs": [
    {
     "name": "stdout",
     "output_type": "stream",
     "text": [
      "Trap, TrapMoneyBenny\n",
      "This shit got me in my feelings\n",
      "Gotta be real with it, yeah\n",
      "Kiki, do you love me? Are you riding?\n",
      "Say you'll never ever leave from beside me\n",
      "'Cause I want ya, and I need ya\n",
      "And I'm down for you always\n",
      "KB, do you love me? Are you riding?\n",
      "Say you'll never ever leave from beside me\n",
      "'Cause I want ya, and I need ya\n",
      "And I'm down for you always\n",
      "Look, the new me is really still the real me\n",
      "I swear you gotta feel me before they try and kill me\n",
      "They gotta make some choices, they runnin' out of options\n",
      "'Cause I've been goin' off and they don't know when it's stoppin'\n",
      "And when you get to toppin', I see that you've been learnin'\n",
      "And when you get to shoppin', you spend it like you earned it\n",
      "And when you popped off on your ex he deserved it\n",
      "I thought you were the one from the jump that confirmed it\n",
      "TrapMoneyBenny\n",
      "I buy you Champagne but you love some Henny\n",
      "From the block like you Jenny\n",
      "I know you special, girl, 'cause I know too many\n",
      "'Resha, do you love me? Are you riding?\n",
      "Say you'll never ever leave from beside me\n",
      "'Cause I want ya, and I need ya\n",
      "And I'm down for you always\n",
      "J.T., do you love me? Are you riding?\n",
      "Say you'll never ever leave from beside me\n",
      "'Cause I want ya, and I need ya\n",
      "And I'm down for you always\n",
      "Two bad bitches and we kissin' in the Wraith\n",
      "Kissin'-kissin' in the Wraith, kiss-kissin' in the Wraith\n",
      "I need that black card and the code to the safe\n",
      "Code to the safe, code-code to the safe-safe\n",
      "I show him how that neck work\n",
      "Fuck that Netflix and chill—what's your net-net-net worth?\n",
      "'Cause I want ya, and I need ya\n",
      "And I'm down for you always\n",
      "Yeah, yeah, yeah, yeah, he bad\n",
      "And I'm down for you always\n",
      "Yeah, yeah, yeah, guess who's back\n",
      "And I'm down for you always\n",
      "D-down for you al–\n",
      "Black biggy biggy black biggy black blake\n",
      "D-d-down for you always\n",
      "I got a new boy, and that nigga trade!\n",
      "Kiki, do you love me? Are you riding?\n",
      "Say you'll never ever leave from beside me\n",
      "'Cause I want you, and I need you\n",
      "And I'm down for you always\n",
      "KB, do you love me? Are you riding?\n",
      "Say you'll never ever leave from beside me\n",
      "'Cause I want ya, and I–\n",
      "Skate and Smoke and Rap\n",
      "Now let me see you\n",
      "Bring that ass, bring that ass, bring that ass back!\n",
      "B-bring that ass, bring that ass, bring that ass back!\n",
      "Shawty say the nigga that she with can't hit\n",
      "But shawty, I'ma hit it, hit it like I can't miss\n",
      "Now let me see you\n",
      "Clap that ass, you're the only one I love\n",
      "Clap that ass, clap-clap that ass!\n",
      "Bring that ass back!\n",
      "Clap-clap-clap that ass, you're the only one I love\n",
      "Let's go, let's go, let's go!\n",
      "Bring that ass back!\n",
      "Trap, TrapMoneyBenny\n",
      "This shit got me in my feelings\n",
      "Gotta be real with it, yup\n",
      "BlaqNmilD, you a genius, you diggin' me?\n",
      "I don't even care, I need a photo with Drake\n",
      "Because my Instagram is weak as fuck\n",
      "I'm just being real, my shit, look,–\n"
     ]
    }
   ],
   "source": [
    "print(ly2)"
   ]
  }
 ],
 "metadata": {
  "kernelspec": {
   "display_name": "Python 3",
   "language": "python",
   "name": "python3"
  },
  "language_info": {
   "codemirror_mode": {
    "name": "ipython",
    "version": 3
   },
   "file_extension": ".py",
   "mimetype": "text/x-python",
   "name": "python",
   "nbconvert_exporter": "python",
   "pygments_lexer": "ipython3",
   "version": "3.6.8"
  }
 },
 "nbformat": 4,
 "nbformat_minor": 4
}
